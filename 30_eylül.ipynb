{
  "nbformat": 4,
  "nbformat_minor": 0,
  "metadata": {
    "colab": {
      "name": "30 eylül.ipynb",
      "provenance": [],
      "authorship_tag": "ABX9TyNgGb1U1IgiWYWEWEjMc5qJ",
      "include_colab_link": true
    },
    "kernelspec": {
      "name": "python3",
      "display_name": "Python 3"
    },
    "language_info": {
      "name": "python"
    }
  },
  "cells": [
    {
      "cell_type": "markdown",
      "metadata": {
        "id": "view-in-github",
        "colab_type": "text"
      },
      "source": [
        "<a href=\"https://colab.research.google.com/github/engin777/my-demo-repo/blob/main/30_eyl%C3%BCl.ipynb\" target=\"_parent\"><img src=\"https://colab.research.google.com/assets/colab-badge.svg\" alt=\"Open In Colab\"/></a>"
      ]
    },
    {
      "cell_type": "code",
      "metadata": {
        "colab": {
          "base_uri": "https://localhost:8080/"
        },
        "id": "wiCbobXZsfBA",
        "outputId": "d4677a9c-920c-4763-fee1-6038f4ee7179"
      },
      "source": [
        "10%3\n"
      ],
      "execution_count": null,
      "outputs": [
        {
          "output_type": "execute_result",
          "data": {
            "text/plain": [
              "1"
            ]
          },
          "metadata": {},
          "execution_count": 1
        }
      ]
    },
    {
      "cell_type": "code",
      "metadata": {
        "colab": {
          "base_uri": "https://localhost:8080/"
        },
        "id": "un9VzQhSu9R2",
        "outputId": "8fdbbf73-e977-48a3-f050-f0bc8eeec56a"
      },
      "source": [
        "11//2"
      ],
      "execution_count": null,
      "outputs": [
        {
          "output_type": "execute_result",
          "data": {
            "text/plain": [
              "5"
            ]
          },
          "metadata": {},
          "execution_count": 2
        }
      ]
    },
    {
      "cell_type": "code",
      "metadata": {
        "colab": {
          "base_uri": "https://localhost:8080/"
        },
        "id": "CGdGwVacvCaj",
        "outputId": "93f2f6d9-0808-4775-a5fc-eea094f6e807"
      },
      "source": [
        "pi =3.14\n",
        "r = 5\n",
        "area = pi* r**2\n",
        "print(area)"
      ],
      "execution_count": null,
      "outputs": [
        {
          "output_type": "stream",
          "name": "stdout",
          "text": [
            "78.5\n"
          ]
        }
      ]
    },
    {
      "cell_type": "code",
      "metadata": {
        "colab": {
          "base_uri": "https://localhost:8080/"
        },
        "id": "Vtw2ZGVzxU5H",
        "outputId": "b2f73095-5773-48b2-90c2-c92eee15e8fc"
      },
      "source": [
        "print(11%2)\n",
        "print((4*5)/ 2)  # bölme işleminin olduğu yerde sonuç float olur"
      ],
      "execution_count": null,
      "outputs": [
        {
          "output_type": "stream",
          "name": "stdout",
          "text": [
            "1\n",
            "10.0\n"
          ]
        }
      ]
    },
    {
      "cell_type": "code",
      "metadata": {
        "colab": {
          "base_uri": "https://localhost:8080/"
        },
        "id": "yYzXaNDCEtsj",
        "outputId": "636fa771-1138-4f39-cc56-5b67f6aaeffb"
      },
      "source": [
        "print(2**3)\n",
        "print(3**2)\n",
        "a = 2 \n",
        "b = 8\n",
        "print((a*b)**0.5)  #square root"
      ],
      "execution_count": null,
      "outputs": [
        {
          "output_type": "stream",
          "name": "stdout",
          "text": [
            "8\n",
            "9\n",
            "4.0\n"
          ]
        }
      ]
    },
    {
      "cell_type": "code",
      "metadata": {
        "colab": {
          "base_uri": "https://localhost:8080/"
        },
        "id": "wtWSmeaQypcG",
        "outputId": "57082318-a350-4a08-e098-493bdf067cde"
      },
      "source": [
        "değişken = 10\n",
        "değişken"
      ],
      "execution_count": null,
      "outputs": [
        {
          "output_type": "execute_result",
          "data": {
            "text/plain": [
              "10"
            ]
          },
          "metadata": {},
          "execution_count": 7
        }
      ]
    },
    {
      "cell_type": "code",
      "metadata": {
        "colab": {
          "base_uri": "https://localhost:8080/"
        },
        "id": "UD8xPcLczv6G",
        "outputId": "cd49f88d-769a-4e17-af72-611c77df8ab0"
      },
      "source": [
        "değişken = değişken + 1\n",
        "değişken"
      ],
      "execution_count": null,
      "outputs": [
        {
          "output_type": "execute_result",
          "data": {
            "text/plain": [
              "11"
            ]
          },
          "metadata": {},
          "execution_count": 8
        }
      ]
    },
    {
      "cell_type": "code",
      "metadata": {
        "colab": {
          "base_uri": "https://localhost:8080/"
        },
        "id": "sGv__VGLz2-w",
        "outputId": "626cdb5f-4801-45ee-f2af-45a6e3b34a8a"
      },
      "source": [
        "değişken += 1\n",
        "değişken"
      ],
      "execution_count": null,
      "outputs": [
        {
          "output_type": "execute_result",
          "data": {
            "text/plain": [
              "12"
            ]
          },
          "metadata": {},
          "execution_count": 9
        }
      ]
    },
    {
      "cell_type": "code",
      "metadata": {
        "colab": {
          "base_uri": "https://localhost:8080/"
        },
        "id": "qWhcMhG149hq",
        "outputId": "3dcb0ac7-998f-4d8b-8316-87c2982964a2"
      },
      "source": [
        "a = 8\n",
        "b = 2\n",
        "a += b\n",
        "a"
      ],
      "execution_count": null,
      "outputs": [
        {
          "output_type": "execute_result",
          "data": {
            "text/plain": [
              "10"
            ]
          },
          "metadata": {},
          "execution_count": 11
        }
      ]
    },
    {
      "cell_type": "code",
      "metadata": {
        "id": "fRRCvXZS5MnV"
      },
      "source": [
        "a += 2 # a = a+2 ile eş anlama geliyor"
      ],
      "execution_count": null,
      "outputs": []
    },
    {
      "cell_type": "code",
      "metadata": {
        "colab": {
          "base_uri": "https://localhost:8080/"
        },
        "id": "UiE0mNI16DFj",
        "outputId": "c815e576-cdc0-4ba9-ba21-ba2eb9e7eacc"
      },
      "source": [
        "a *= b    # a = a*b ile eş anlama geliyor\n",
        "a         "
      ],
      "execution_count": null,
      "outputs": [
        {
          "output_type": "execute_result",
          "data": {
            "text/plain": [
              "20"
            ]
          },
          "metadata": {},
          "execution_count": 12
        }
      ]
    },
    {
      "cell_type": "code",
      "metadata": {
        "colab": {
          "base_uri": "https://localhost:8080/"
        },
        "id": "SKzrkqty6HIl",
        "outputId": "78c8aea2-e04a-4862-d9b0-2cf7dc45e96d"
      },
      "source": [
        "a = (1+3)** (2**(1*2/2)/2)\n",
        "print(a)"
      ],
      "execution_count": null,
      "outputs": [
        {
          "output_type": "stream",
          "name": "stdout",
          "text": [
            "4.0\n"
          ]
        }
      ]
    },
    {
      "cell_type": "code",
      "metadata": {
        "colab": {
          "base_uri": "https://localhost:8080/"
        },
        "id": "NP3lblLd6xq9",
        "outputId": "72dd86bd-4290-4f8c-9e25-0a1a2a3e6df2"
      },
      "source": [
        "a = 3\n",
        "b = 4\n",
        "c = (a**2 + b**2)**0.5  # üçgenin dik kenarı hesapladık bu soruda\n",
        "c"
      ],
      "execution_count": null,
      "outputs": [
        {
          "output_type": "execute_result",
          "data": {
            "text/plain": [
              "5.0"
            ]
          },
          "metadata": {},
          "execution_count": 15
        }
      ]
    },
    {
      "cell_type": "code",
      "metadata": {
        "colab": {
          "base_uri": "https://localhost:8080/"
        },
        "id": "AmxpNnkI8fd2",
        "outputId": "f1ea4189-03e1-4709-eabb-a0241da7e747"
      },
      "source": [
        "print(\"ali\")\n",
        "print(\"veli\",\"ayşe\")\n",
        "print(\"selvi\",\"baharat\",44)\n",
        "print(c, False, \"ahmet\", 3.14)"
      ],
      "execution_count": null,
      "outputs": [
        {
          "output_type": "stream",
          "name": "stdout",
          "text": [
            "ali\n",
            "veli ayşe\n",
            "selvi baharat 44\n",
            "5.0 False ahmet 3.14\n"
          ]
        }
      ]
    },
    {
      "cell_type": "code",
      "metadata": {
        "colab": {
          "base_uri": "https://localhost:8080/"
        },
        "id": "SlCqD_8--_FP",
        "outputId": "38d74e0e-85bd-4296-90e6-0ae15c38aad6"
      },
      "source": [
        "print(c, False, \"ahmet\", 3.14, sep =\"-\") # seperatör virgülle ayrılmış değerlerin arasına işlem yapar"
      ],
      "execution_count": null,
      "outputs": [
        {
          "output_type": "stream",
          "name": "stdout",
          "text": [
            "5.0-False-ahmet-3.14\n"
          ]
        }
      ]
    },
    {
      "cell_type": "code",
      "metadata": {
        "colab": {
          "base_uri": "https://localhost:8080/"
        },
        "id": "sQLhE3_8_v4t",
        "outputId": "6a806041-d0de-4a74-8791-a4b5967bcdfa"
      },
      "source": [
        "print(\"selvi\", \"baharat\", 44, sep =\"**\")"
      ],
      "execution_count": null,
      "outputs": [
        {
          "output_type": "stream",
          "name": "stdout",
          "text": [
            "selvi**baharat**44\n"
          ]
        }
      ]
    },
    {
      "cell_type": "code",
      "metadata": {
        "colab": {
          "base_uri": "https://localhost:8080/"
        },
        "id": "tNJVegPuADss",
        "outputId": "c3f2eeb7-7d4d-4789-e3ab-c0796a7fae6d"
      },
      "source": [
        "print(\"ali\", end =\"\") # end yazmasak aynı satıra almaz veli ile ayşeyi alt satıra atardı\n",
        "print(\"veli\",\"ayşe\")"
      ],
      "execution_count": null,
      "outputs": [
        {
          "output_type": "stream",
          "name": "stdout",
          "text": [
            "aliveli ayşe\n"
          ]
        }
      ]
    },
    {
      "cell_type": "code",
      "metadata": {
        "colab": {
          "base_uri": "https://localhost:8080/"
        },
        "id": "YksLjaPIAaF8",
        "outputId": "cc27f1c4-c5cd-4748-a2be-ceeae6ec4c62"
      },
      "source": [
        "text1 = \"I bought\"\n",
        "text2 = \"kg. of apple this morning\"\n",
        "amount = 6\n",
        "text3 = text1 + \" \" + str(amount) + \" \" + text2\n",
        "print(text1, amount,text2)\n",
        "print(\"I bought\", 6, \"kg. of apple this morning\")\n",
        "print(\"I bought\" +\" 6 \" + \"kg. of apple this morning\" )\n",
        "print(text3)\n"
      ],
      "execution_count": null,
      "outputs": [
        {
          "output_type": "stream",
          "name": "stdout",
          "text": [
            "I bought 6 kg. of apple this morning\n",
            "I bought 6 kg. of apple this morning\n",
            "I bought 6 kg. of apple this morning\n",
            "I bought 6 kg. of apple this morning\n"
          ]
        }
      ]
    },
    {
      "cell_type": "code",
      "metadata": {
        "colab": {
          "base_uri": "https://localhost:8080/"
        },
        "id": "1hVS4uyBB86d",
        "outputId": "fb4dd692-3a18-4ede-e07d-53dab7ec5a02"
      },
      "source": [
        "print('Ahmet\\'in ceketi') # \\ işareti varsa kursör yok gibi işlem yapıyor"
      ],
      "execution_count": null,
      "outputs": [
        {
          "output_type": "stream",
          "name": "stdout",
          "text": [
            "Ahmet'in ceketi\n"
          ]
        }
      ]
    },
    {
      "cell_type": "code",
      "metadata": {
        "colab": {
          "base_uri": "https://localhost:8080/"
        },
        "id": "Q-pTNoYMIFlL",
        "outputId": "a77ef4a0-93af-4e3e-c0b3-0ec1cbe14679"
      },
      "source": [
        "print('Ayla\\nın çantası')"
      ],
      "execution_count": null,
      "outputs": [
        {
          "output_type": "stream",
          "name": "stdout",
          "text": [
            "Ayla\n",
            "ın çantası\n"
          ]
        }
      ]
    },
    {
      "cell_type": "code",
      "metadata": {
        "colab": {
          "base_uri": "https://localhost:8080/"
        },
        "id": "YEBJuI5-IvOq",
        "outputId": "7e388e4f-7c31-4aef-dc82-92f84571dd9e"
      },
      "source": [
        "print('Ayla\\\\nın çantası')"
      ],
      "execution_count": null,
      "outputs": [
        {
          "output_type": "stream",
          "name": "stdout",
          "text": [
            "Ayla\\nın çantası\n"
          ]
        }
      ]
    },
    {
      "cell_type": "code",
      "metadata": {
        "colab": {
          "base_uri": "https://localhost:8080/"
        },
        "id": "37yNE6yKI0pr",
        "outputId": "b42681b6-79f5-4f82-f306-fbd046f8c54f"
      },
      "source": [
        "print('C:\\\\north pole\\noise_penguins.txt')\n",
        "print('-----------')\n",
        "print('first', 'second','third', sep='\\t')"
      ],
      "execution_count": null,
      "outputs": [
        {
          "output_type": "stream",
          "name": "stdout",
          "text": [
            "C:\\north pole\n",
            "oise_penguins.txt\n",
            "-----------\n",
            "first\tsecond\tthird\n"
          ]
        }
      ]
    },
    {
      "cell_type": "code",
      "metadata": {
        "colab": {
          "base_uri": "https://localhost:8080/"
        },
        "id": "Gx6XPQLUPolI",
        "outputId": "40af3113-8e23-46f8-9d1f-4961b5e06b97"
      },
      "source": [
        "print('we are', '\\boosting', 'our','\\brotherhood')  # \\b boşlukları kapatır\n",
        "print('it\\'s essential to learn Python\\'s libraries in IT World')"
      ],
      "execution_count": null,
      "outputs": [
        {
          "output_type": "stream",
          "name": "stdout",
          "text": [
            "we are \boosting our \brotherhood\n",
            "it's essential to learn Python's libraries in IT World\n"
          ]
        }
      ]
    },
    {
      "cell_type": "code",
      "metadata": {
        "colab": {
          "base_uri": "https://localhost:8080/"
        },
        "id": "dwRu_Ig-Jvlm",
        "outputId": "8b8325fe-88bf-4964-ba4b-db0615ce1a95"
      },
      "source": [
        "text = \"Clarusway, Clarusway, Clarusway,\\n\\tClarusway,Clarusway,Clarusway,\\n\\t\\tClarusway,Clarusway,Clarusway\"\n",
        "print(text)"
      ],
      "execution_count": null,
      "outputs": [
        {
          "output_type": "stream",
          "name": "stdout",
          "text": [
            "Clarusway, Clarusway, Clarusway,\n",
            "\tClarusway,Clarusway,Clarusway,\n",
            "\t\tClarusway,Clarusway,Clarusway\n"
          ]
        }
      ]
    },
    {
      "cell_type": "code",
      "metadata": {
        "colab": {
          "base_uri": "https://localhost:8080/"
        },
        "id": "ROrH9i_ITGet",
        "outputId": "55e72562-c552-4e12-b3b4-0e5ad4785b03"
      },
      "source": [
        "text = \"Clarusway,Clarusway,Clarusway\"\n",
        "print(text +\",\")\n",
        "print(\"\\t\"+ text+\",\")\n",
        "print(\"\\t\\t\" + text) "
      ],
      "execution_count": null,
      "outputs": [
        {
          "output_type": "stream",
          "name": "stdout",
          "text": [
            "Clarusway,Clarusway,Clarusway,\n",
            "\tClarusway,Clarusway,Clarusway,\n",
            "\t\tClarusway,Clarusway,Clarusway\n"
          ]
        }
      ]
    },
    {
      "cell_type": "code",
      "metadata": {
        "id": "0uVH-B9MTuIE"
      },
      "source": [
        ""
      ],
      "execution_count": null,
      "outputs": []
    },
    {
      "cell_type": "code",
      "metadata": {
        "id": "e1IoipRGWVS9"
      },
      "source": [
        "text = \"Clarusway,\\nClarusway\" # \\n enter gibi alt satıra indirir"
      ],
      "execution_count": null,
      "outputs": []
    },
    {
      "cell_type": "code",
      "metadata": {
        "colab": {
          "base_uri": "https://localhost:8080/"
        },
        "id": "YvWHyg0JWbAI",
        "outputId": "e69ba11a-6826-480d-d531-a9d947baad05"
      },
      "source": [
        "print(text)"
      ],
      "execution_count": null,
      "outputs": [
        {
          "output_type": "stream",
          "name": "stdout",
          "text": [
            "Clarusway,\n",
            "Clarusway\n"
          ]
        }
      ]
    },
    {
      "cell_type": "code",
      "metadata": {
        "colab": {
          "base_uri": "https://localhost:8080/"
        },
        "id": "KOtwgr_sWkOz",
        "outputId": "a0762395-0ff9-42d2-9209-fe375bdc266b"
      },
      "source": [
        "text=\"Clarusway,\\tClarusway\" # \\t tab tuşu gibi boşluk bırakır\n",
        "print(text)"
      ],
      "execution_count": null,
      "outputs": [
        {
          "output_type": "stream",
          "name": "stdout",
          "text": [
            "Clarusway,\tClarusway\n"
          ]
        }
      ]
    },
    {
      "cell_type": "code",
      "metadata": {
        "colab": {
          "base_uri": "https://localhost:8080/"
        },
        "id": "01RXn6okWt91",
        "outputId": "fcc8a75e-8098-49d6-b30e-05fdefcfb162"
      },
      "source": [
        "text =\"Clarusway,\\bClarusway,\\bClarusway\" # \\b aradaki boşluk ve işaretleri yok ediyor\n",
        "print(text)"
      ],
      "execution_count": null,
      "outputs": [
        {
          "output_type": "stream",
          "name": "stdout",
          "text": [
            "Clarusway,\bClarusway,\bClarusway\n"
          ]
        }
      ]
    },
    {
      "cell_type": "code",
      "metadata": {
        "id": "jHYxaBvhXFoH"
      },
      "source": [
        ""
      ],
      "execution_count": null,
      "outputs": []
    }
  ]
}