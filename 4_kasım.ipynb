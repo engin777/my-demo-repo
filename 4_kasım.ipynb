{
  "nbformat": 4,
  "nbformat_minor": 0,
  "metadata": {
    "colab": {
      "name": "4 kasım.ipynb",
      "provenance": [],
      "authorship_tag": "ABX9TyNq2hG+4JN9+ALDhDAresCq",
      "include_colab_link": true
    },
    "kernelspec": {
      "name": "python3",
      "display_name": "Python 3"
    },
    "language_info": {
      "name": "python"
    }
  },
  "cells": [
    {
      "cell_type": "markdown",
      "metadata": {
        "id": "view-in-github",
        "colab_type": "text"
      },
      "source": [
        "<a href=\"https://colab.research.google.com/github/engin777/my-demo-repo/blob/main/4_kas%C4%B1m.ipynb\" target=\"_parent\"><img src=\"https://colab.research.google.com/assets/colab-badge.svg\" alt=\"Open In Colab\"/></a>"
      ]
    },
    {
      "cell_type": "code",
      "metadata": {
        "colab": {
          "base_uri": "https://localhost:8080/"
        },
        "id": "9acLFodsWO-K",
        "outputId": "242637e9-a416-484a-ce8a-da43273f68cd"
      },
      "source": [
        "given_list = [1,2,3,3,3,3,4,4,5,5]\n",
        "unique = set(given_list)\n",
        "print(unique)"
      ],
      "execution_count": null,
      "outputs": [
        {
          "output_type": "stream",
          "name": "stdout",
          "text": [
            "{1, 2, 3, 4, 5}\n"
          ]
        }
      ]
    },
    {
      "cell_type": "code",
      "metadata": {
        "colab": {
          "base_uri": "https://localhost:8080/"
        },
        "id": "ZDnQUoccUlX9",
        "outputId": "62a0e0c8-7901-4430-b2f2-f1754c91edf6"
      },
      "source": [
        "a = set(\"philedelphia\")\n",
        "b = set(\"dolphin\")\n",
        "#print(a -b)\n",
        "print(a.difference(b))"
      ],
      "execution_count": null,
      "outputs": [
        {
          "output_type": "stream",
          "name": "stdout",
          "text": [
            "{'e', 'a'}\n"
          ]
        }
      ]
    },
    {
      "cell_type": "code",
      "metadata": {
        "colab": {
          "base_uri": "https://localhost:8080/"
        },
        "id": "4CEeso9hVWM5",
        "outputId": "91a3a0ad-f92f-4e47-c4ee-840611bfa6bd"
      },
      "source": [
        "a & b == b & a"
      ],
      "execution_count": null,
      "outputs": [
        {
          "output_type": "execute_result",
          "data": {
            "text/plain": [
              "True"
            ]
          },
          "metadata": {},
          "execution_count": 3
        }
      ]
    },
    {
      "cell_type": "code",
      "metadata": {
        "colab": {
          "base_uri": "https://localhost:8080/"
        },
        "id": "Mutk3A2IIkX0",
        "outputId": "1a2d4d09-2522-4a8c-fa5a-4bb252bbde1c"
      },
      "source": [
        "date = \"11/04/2021\"\n",
        "set(date)"
      ],
      "execution_count": null,
      "outputs": [
        {
          "output_type": "execute_result",
          "data": {
            "text/plain": [
              "{'/', '0', '1', '2', '4'}"
            ]
          },
          "metadata": {},
          "execution_count": 1
        }
      ]
    },
    {
      "cell_type": "code",
      "metadata": {
        "colab": {
          "base_uri": "https://localhost:8080/"
        },
        "id": "KONPgDiXLNTR",
        "outputId": "382c246f-10b5-484a-9d4b-c0519027d2ca"
      },
      "source": [
        "{date}"
      ],
      "execution_count": null,
      "outputs": [
        {
          "output_type": "execute_result",
          "data": {
            "text/plain": [
              "{'11/04/2021'}"
            ]
          },
          "metadata": {},
          "execution_count": 2
        }
      ]
    },
    {
      "cell_type": "code",
      "metadata": {
        "colab": {
          "base_uri": "https://localhost:8080/"
        },
        "id": "CTMb5h9vLhHN",
        "outputId": "3c85b9e0-61c7-475c-b212-eb9d633919aa"
      },
      "source": [
        "usa = set(\"washington\")\n",
        "nz = set(\"wellington\")\n",
        "usa - nz"
      ],
      "execution_count": null,
      "outputs": [
        {
          "output_type": "execute_result",
          "data": {
            "text/plain": [
              "{'a', 'h', 's'}"
            ]
          },
          "metadata": {},
          "execution_count": 3
        }
      ]
    },
    {
      "cell_type": "code",
      "metadata": {
        "colab": {
          "base_uri": "https://localhost:8080/"
        },
        "id": "WdfqDtKNNRbp",
        "outputId": "4ef0d961-b83a-4226-82cb-a701ce40de4e"
      },
      "source": [
        "nz - usa"
      ],
      "execution_count": null,
      "outputs": [
        {
          "output_type": "execute_result",
          "data": {
            "text/plain": [
              "{'e', 'l'}"
            ]
          },
          "metadata": {},
          "execution_count": 4
        }
      ]
    },
    {
      "cell_type": "code",
      "metadata": {
        "colab": {
          "base_uri": "https://localhost:8080/"
        },
        "id": "_gVDjJ22NUWQ",
        "outputId": "4274f548-aa9d-421e-825d-fef5dc7a5d7c"
      },
      "source": [
        "usa & nz"
      ],
      "execution_count": null,
      "outputs": [
        {
          "output_type": "execute_result",
          "data": {
            "text/plain": [
              "{'g', 'i', 'n', 'o', 't', 'w'}"
            ]
          },
          "metadata": {},
          "execution_count": 5
        }
      ]
    },
    {
      "cell_type": "code",
      "metadata": {
        "colab": {
          "base_uri": "https://localhost:8080/"
        },
        "id": "jE2oWW3RNf6u",
        "outputId": "e2a52223-5c27-4b96-9b5b-0c89a41cea89"
      },
      "source": [
        "usa | nz"
      ],
      "execution_count": null,
      "outputs": [
        {
          "output_type": "execute_result",
          "data": {
            "text/plain": [
              "{'a', 'e', 'g', 'h', 'i', 'l', 'n', 'o', 's', 't', 'w'}"
            ]
          },
          "metadata": {},
          "execution_count": 6
        }
      ]
    },
    {
      "cell_type": "code",
      "metadata": {
        "colab": {
          "base_uri": "https://localhost:8080/"
        },
        "id": "1JFBuKoUNzC7",
        "outputId": "aeacb678-0f50-4ec2-a54f-bddda57856b4"
      },
      "source": [
        "minced = True\n",
        "bread = True\n",
        "lettuce = True\n",
        "onion = True\n",
        "grocer = True\n",
        "hamburger = (minced and grocer and bread) and (lettuce or onion)\n",
        "hamburger"
      ],
      "execution_count": null,
      "outputs": [
        {
          "output_type": "execute_result",
          "data": {
            "text/plain": [
              "True"
            ]
          },
          "metadata": {},
          "execution_count": 9
        }
      ]
    },
    {
      "cell_type": "code",
      "metadata": {
        "colab": {
          "base_uri": "https://localhost:8080/"
        },
        "id": "TgeSX4CAZO5-",
        "outputId": "57521c8e-3025-4aa3-e1c0-f867b4746136"
      },
      "source": [
        "if hamburger :\n",
        "  print(\"Bon Appetit\")"
      ],
      "execution_count": null,
      "outputs": [
        {
          "output_type": "stream",
          "name": "stdout",
          "text": [
            "Bon Appetit\n"
          ]
        }
      ]
    },
    {
      "cell_type": "code",
      "metadata": {
        "colab": {
          "base_uri": "https://localhost:8080/"
        },
        "id": "9dUTN-nSck68",
        "outputId": "fa9c3a6d-e4d8-4321-a5ea-0f897c893119"
      },
      "source": [
        "set1 = set(\"TWELVE PLUS ONE\")\n",
        "set2 = set(\"ELEVEN PLUS TWO\")\n",
        "if set1 == set2 :\n",
        "  print(\"We are the same!\")"
      ],
      "execution_count": null,
      "outputs": [
        {
          "output_type": "stream",
          "name": "stdout",
          "text": [
            "We are the same!\n"
          ]
        }
      ]
    },
    {
      "cell_type": "code",
      "metadata": {
        "colab": {
          "base_uri": "https://localhost:8080/"
        },
        "id": "DoOcDZ7ndyul",
        "outputId": "043e4669-256b-4889-dd0d-7f9eb564d6ea"
      },
      "source": [
        "x = input(\"Please tell a word 'Yes'or 'No'\")\n",
        "x = x.title().strip()==\"Yes\"\n",
        "print(\"You entered True\")\n"
      ],
      "execution_count": null,
      "outputs": [
        {
          "output_type": "stream",
          "name": "stdout",
          "text": [
            "Please tell a word 'Yes'or 'No'xxx\n",
            "You entered True\n"
          ]
        }
      ]
    },
    {
      "cell_type": "code",
      "metadata": {
        "colab": {
          "base_uri": "https://localhost:8080/"
        },
        "id": "MA2KevghpvUV",
        "outputId": "56107858-3c90-4244-924c-86bb522e1d62"
      },
      "source": [
        "num = int(input(\"Enter a number:\"))\n",
        "if (num %2) == 0:\n",
        "  print(\"{0} is Even\".format(num))\n",
        "else:\n",
        "  print(\"{0} is Odd\".format(num))\n",
        "    "
      ],
      "execution_count": null,
      "outputs": [
        {
          "output_type": "stream",
          "name": "stdout",
          "text": [
            "Enter a number:5\n",
            "5 is Odd\n"
          ]
        }
      ]
    },
    {
      "cell_type": "code",
      "metadata": {
        "colab": {
          "base_uri": "https://localhost:8080/"
        },
        "id": "7YRp05I5qPjl",
        "outputId": "3e04d668-1842-4f73-a319-31f698480e1c"
      },
      "source": [
        "numo = int(input(\"Enter positive or negative number:\"))\n",
        "if numo > 0 :\n",
        "  print(\"You entered positive number\")\n",
        "else :\n",
        "  print(\"You entered negative number\")\n",
        "    "
      ],
      "execution_count": null,
      "outputs": [
        {
          "output_type": "stream",
          "name": "stdout",
          "text": [
            "Enter positive or negative number:-5\n",
            "You entered negative number\n"
          ]
        }
      ]
    },
    {
      "cell_type": "code",
      "metadata": {
        "colab": {
          "base_uri": "https://localhost:8080/"
        },
        "id": "b1kG3-pRr7DO",
        "outputId": "1f01202f-13ab-4ac8-b4f8-21a326ff547b"
      },
      "source": [
        "num1 = float(input(\"Enter first number:\"))\n",
        "num2 = float(input(\"Enter second number:\"))\n",
        "if num1 > num2 :\n",
        "  larger = num1\n",
        "else :\n",
        "  larger = num2 \n",
        "  print(\"The larger number is\", larger)\n"
      ],
      "execution_count": null,
      "outputs": [
        {
          "output_type": "stream",
          "name": "stdout",
          "text": [
            "Enter first number:5\n",
            "Enter second number:5\n",
            "The larger number is 5.0\n"
          ]
        }
      ]
    },
    {
      "cell_type": "code",
      "metadata": {
        "colab": {
          "base_uri": "https://localhost:8080/"
        },
        "id": "wbP54OOKuI4L",
        "outputId": "ab88aada-9711-4f75-aa5c-e70832cc5b34"
      },
      "source": [
        "num1 = float(input(\"Enter first number:\"))\n",
        "num2 = float(input(\"Enter second number:\"))\n",
        "if (num1 > num2) :\n",
        "  print('The large number is', num1)\n",
        "else:\n",
        "  print('The large number is', num2)  "
      ],
      "execution_count": null,
      "outputs": [
        {
          "output_type": "stream",
          "name": "stdout",
          "text": [
            "Enter first number:8\n",
            "Enter second number:5\n",
            "The large number is 8.0\n"
          ]
        }
      ]
    },
    {
      "cell_type": "code",
      "metadata": {
        "colab": {
          "base_uri": "https://localhost:8080/"
        },
        "id": "qz4AOSU3FDa5",
        "outputId": "5d1ebe14-698f-49ee-ca50-1ec4fd03c548"
      },
      "source": [
        "a = set('warning')\n",
        "b = set('bearing')\n",
        "print(a-b)"
      ],
      "execution_count": null,
      "outputs": [
        {
          "output_type": "stream",
          "name": "stdout",
          "text": [
            "{'w'}\n"
          ]
        }
      ]
    },
    {
      "cell_type": "code",
      "metadata": {
        "colab": {
          "base_uri": "https://localhost:8080/"
        },
        "id": "x1BIhrYCFMXm",
        "outputId": "8256248e-7f01-42b4-8260-13d0dce575f2"
      },
      "source": [
        "a = set('warning')\n",
        "b = set('bearing')\n",
        "print(a.difference(b))"
      ],
      "execution_count": null,
      "outputs": [
        {
          "output_type": "stream",
          "name": "stdout",
          "text": [
            "{'w'}\n"
          ]
        }
      ]
    },
    {
      "cell_type": "code",
      "metadata": {
        "colab": {
          "base_uri": "https://localhost:8080/"
        },
        "id": "kvYfMNf_Fu4X",
        "outputId": "3a63dbd8-bdc8-4d8d-ac89-1c6997e1277f"
      },
      "source": [
        "a = set('warning')\n",
        "b = set('bearing')\n",
        "print(b.difference(a))"
      ],
      "execution_count": null,
      "outputs": [
        {
          "output_type": "stream",
          "name": "stdout",
          "text": [
            "{'b', 'e'}\n"
          ]
        }
      ]
    },
    {
      "cell_type": "code",
      "metadata": {
        "colab": {
          "base_uri": "https://localhost:8080/"
        },
        "id": "fy3L6RZeNrzv",
        "outputId": "7cad9a7f-3b53-44f9-d8b9-b5daedd809e1"
      },
      "source": [
        "x = input('Enter user name:')\n",
        "if x == 'engin' :\n",
        "  print(\"Hello,Joseph! The password is : W@12\")\n",
        "else :\n",
        "  print(\"Hello,Amina!See you later.\")  \n",
        "\n"
      ],
      "execution_count": null,
      "outputs": [
        {
          "output_type": "stream",
          "name": "stdout",
          "text": [
            "Enter user name:engin\n",
            "Hello,Joseph! The password is : W@12\n"
          ]
        }
      ]
    },
    {
      "cell_type": "code",
      "metadata": {
        "colab": {
          "base_uri": "https://localhost:8080/"
        },
        "id": "4jBH8WlSH_Ra",
        "outputId": "3fa1d4a6-a950-46b4-b7a8-83f8e978616e"
      },
      "source": [
        "college_years = ['Freshman', 'Sophomore', 'Junior', 'Senior']\n",
        "print(list(enumerate(college_years, 2019)))"
      ],
      "execution_count": null,
      "outputs": [
        {
          "output_type": "stream",
          "name": "stdout",
          "text": [
            "[(2019, 'Freshman'), (2020, 'Sophomore'), (2021, 'Junior'), (2022, 'Senior')]\n"
          ]
        }
      ]
    },
    {
      "cell_type": "code",
      "metadata": {
        "colab": {
          "base_uri": "https://localhost:8080/"
        },
        "id": "bU0XaluoIfLn",
        "outputId": "2873118f-e30e-49c7-e91a-64c789f0c7b3"
      },
      "source": [
        "fruits = ['Apples', 'Oranges', 'Bananas']\n",
        "quantities = [5, 3, 4]\n",
        "prices = [1.50, 2.25, 0.89]\n",
        "# Desired output\n",
        "[('Apples', 5, 1.50),\n",
        "('Oranges', 3, 2.25),\n",
        "('Bananas', 4, 0.89)]"
      ],
      "execution_count": null,
      "outputs": [
        {
          "output_type": "execute_result",
          "data": {
            "text/plain": [
              "[('Apples', 5, 1.5), ('Oranges', 3, 2.25), ('Bananas', 4, 0.89)]"
            ]
          },
          "metadata": {},
          "execution_count": 2
        }
      ]
    },
    {
      "cell_type": "code",
      "metadata": {
        "colab": {
          "base_uri": "https://localhost:8080/"
        },
        "id": "XOkQZ7OqI2Ye",
        "outputId": "6f9bc358-dc47-4a0a-a48a-bbcc4865fe9d"
      },
      "source": [
        "fruits = ['Apples', 'Oranges', 'Bananas']\n",
        "quantities = [5, 3, 4]\n",
        "prices = [1.50, 2.25, 0.89]\n",
        "groceries = zip(fruits, quantities, prices)\n",
        "print(list(groceries))"
      ],
      "execution_count": null,
      "outputs": [
        {
          "output_type": "stream",
          "name": "stdout",
          "text": [
            "[('Apples', 5, 1.5), ('Oranges', 3, 2.25), ('Bananas', 4, 0.89)]\n"
          ]
        }
      ]
    }
  ]
}