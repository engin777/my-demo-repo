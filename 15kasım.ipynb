{
  "nbformat": 4,
  "nbformat_minor": 0,
  "metadata": {
    "colab": {
      "name": "15kasım",
      "provenance": [],
      "authorship_tag": "ABX9TyPQ+PrwCyIRsg3oZmawUp4j",
      "include_colab_link": true
    },
    "kernelspec": {
      "name": "python3",
      "display_name": "Python 3"
    },
    "language_info": {
      "name": "python"
    }
  },
  "cells": [
    {
      "cell_type": "markdown",
      "metadata": {
        "id": "view-in-github",
        "colab_type": "text"
      },
      "source": [
        "<a href=\"https://colab.research.google.com/github/engin777/my-demo-repo/blob/main/15kas%C4%B1m.ipynb\" target=\"_parent\"><img src=\"https://colab.research.google.com/assets/colab-badge.svg\" alt=\"Open In Colab\"/></a>"
      ]
    },
    {
      "cell_type": "code",
      "metadata": {
        "colab": {
          "base_uri": "https://localhost:8080/"
        },
        "id": "gmx6tJxLvang",
        "outputId": "0cd611c8-f05d-468d-b2e3-5c91084f93df"
      },
      "source": [
        "list1 = [1,2,3,4,5]\n",
        "list2 = [\"a\",\"b\",\"c\",\"d\",\"e\"]\n",
        "print(dict(zip(list1,list2)))\n",
        "print(list(zip(list1,list2)))"
      ],
      "execution_count": null,
      "outputs": [
        {
          "output_type": "stream",
          "name": "stdout",
          "text": [
            "{1: 'a', 2: 'b', 3: 'c', 4: 'd', 5: 'e'}\n",
            "[(1, 'a'), (2, 'b'), (3, 'c'), (4, 'd'), (5, 'e')]\n"
          ]
        }
      ]
    },
    {
      "cell_type": "code",
      "metadata": {
        "colab": {
          "base_uri": "https://localhost:8080/"
        },
        "id": "mwO35V1CwDoY",
        "outputId": "a62864a2-e033-4a9d-b5d1-7605ed3c1b53"
      },
      "source": [
        "list1 = [1,2,3]\n",
        "list2 = [\"a\",\"b\",\"c\",\"d\",\"e\"]\n",
        "print(dict(zip(list1,list2)))"
      ],
      "execution_count": null,
      "outputs": [
        {
          "output_type": "stream",
          "name": "stdout",
          "text": [
            "{1: 'a', 2: 'b', 3: 'c'}\n"
          ]
        }
      ]
    },
    {
      "cell_type": "code",
      "metadata": {
        "colab": {
          "base_uri": "https://localhost:8080/"
        },
        "id": "s8ro7uLZywc1",
        "outputId": "9dfd4152-cb3a-4fb8-b12d-ad1d8f874b03"
      },
      "source": [
        "std = [\"ahmet\",\"tarık\",\"müzeyyen\"]\n",
        "new_std = list(enumerate(std,5))\n",
        "print(new_std)"
      ],
      "execution_count": null,
      "outputs": [
        {
          "output_type": "stream",
          "name": "stdout",
          "text": [
            "[(5, 'ahmet'), (6, 'tarık'), (7, 'müzeyyen')]\n"
          ]
        }
      ]
    },
    {
      "cell_type": "code",
      "metadata": {
        "colab": {
          "base_uri": "https://localhost:8080/"
        },
        "id": "QS7Dh4MAzFu3",
        "outputId": "c4f6268b-ee8c-4006-a76a-2057c7c556c3"
      },
      "source": [
        "test_list = [\"Ali\",1,\"Veli\",2,\"Osman\",3,\"Ahmet\",4]\n",
        "output : {1:'Ali',2:'Veli',3:'Osman',4:'Ahmet'}\n",
        "name_list = test_list[0::2]\n",
        "id_list = test_list[1::2]\n",
        "print(name_list, id_list)"
      ],
      "execution_count": null,
      "outputs": [
        {
          "output_type": "stream",
          "name": "stdout",
          "text": [
            "['Ali', 'Veli', 'Osman', 'Ahmet'] [1, 2, 3, 4]\n"
          ]
        }
      ]
    },
    {
      "cell_type": "code",
      "metadata": {
        "colab": {
          "base_uri": "https://localhost:8080/"
        },
        "id": "r-k_NZyY0kSg",
        "outputId": "0b876f79-17a1-45df-ead7-70d164ffd917"
      },
      "source": [
        "test_list = [\"Ali\",1,\"Veli\",2,\"Osman\",3,\"Ahmet\",4]\n",
        "output : {1:'Ali',2:'Veli',3:'Osman',4:'Ahmet'}\n",
        "name_list = test_list[0::2]\n",
        "id_list = test_list[1::2]\n",
        "\n",
        "new_dict = dict(zip(id_list,name_list))\n",
        "print(new_dict)"
      ],
      "execution_count": null,
      "outputs": [
        {
          "output_type": "stream",
          "name": "stdout",
          "text": [
            "{1: 'Ali', 2: 'Veli', 3: 'Osman', 4: 'Ahmet'}\n"
          ]
        }
      ]
    },
    {
      "cell_type": "code",
      "metadata": {
        "colab": {
          "base_uri": "https://localhost:8080/"
        },
        "id": "Y3-C9fcqnkum",
        "outputId": "77a37bf9-9636-48ea-a4c5-70cafdd016d1"
      },
      "source": [
        "number = input(\"Please enter an integer number: \")\n",
        "power = len(number)\n",
        "sonuc = 0\n",
        "if number.startswith(\"-\") or \".\" in number or \",\" in number or (not number.isdigit()):\n",
        "    print(\"It is an invalid entry. Don't use non-numeric, float, or negative values!\")\n",
        "else:\n",
        "    for i in number:\n",
        "        sonuc += int(i) ** power\n",
        "    if int(number) == sonuc:\n",
        "        print(number + \" is an Armstrong number\")\n",
        "    else:\n",
        "        print(number + \" is not an Armstrong number\")\n",
        "\n",
        "\n"
      ],
      "execution_count": null,
      "outputs": [
        {
          "output_type": "stream",
          "name": "stdout",
          "text": [
            "Please enter an integer number: one\n",
            "It is an invalid entry. Don't use non-numeric, float, or negative values!\n"
          ]
        }
      ]
    },
    {
      "cell_type": "code",
      "metadata": {
        "colab": {
          "base_uri": "https://localhost:8080/"
        },
        "id": "uakoMyDn0Rlt",
        "outputId": "3f85d304-f778-4627-a2c3-67d3391b94ac"
      },
      "source": [
        "sum_num = 0\n",
        "for i in range(1,75):\n",
        "  sum_num += i\n",
        "print(sum_num)  "
      ],
      "execution_count": null,
      "outputs": [
        {
          "output_type": "stream",
          "name": "stdout",
          "text": [
            "2775\n"
          ]
        }
      ]
    },
    {
      "cell_type": "code",
      "metadata": {
        "colab": {
          "base_uri": "https://localhost:8080/"
        },
        "id": "dJWaXjAT24yY",
        "outputId": "f68284e8-a88e-4eca-933b-ea3a61663f50"
      },
      "source": [
        "names = [\"susan\",\"tom\",\"edward\"]\n",
        "mood = [\"happy\",\"sad\"]\n",
        "for i in names:\n",
        "  for ii in mood:\n",
        "    print(i + \" is \" + ii)\n"
      ],
      "execution_count": null,
      "outputs": [
        {
          "output_type": "stream",
          "name": "stdout",
          "text": [
            "susan is happy\n",
            "susan is sad\n",
            "tom is happy\n",
            "tom is sad\n",
            "edward is happy\n",
            "edward is sad\n"
          ]
        }
      ]
    },
    {
      "cell_type": "code",
      "metadata": {
        "colab": {
          "base_uri": "https://localhost:8080/"
        },
        "id": "g1vnTTc94JgJ",
        "outputId": "b073d207-2c90-4425-d5f4-900341e59ad6"
      },
      "source": [
        "v = (\"five\",5,True)\n",
        "v"
      ],
      "execution_count": null,
      "outputs": [
        {
          "output_type": "execute_result",
          "data": {
            "text/plain": [
              "('five', 5, True)"
            ]
          },
          "metadata": {},
          "execution_count": 8
        }
      ]
    },
    {
      "cell_type": "code",
      "metadata": {
        "id": "8sRq2vPm4Xzl"
      },
      "source": [
        "(x,y,z) = v"
      ],
      "execution_count": null,
      "outputs": []
    },
    {
      "cell_type": "code",
      "metadata": {
        "colab": {
          "base_uri": "https://localhost:8080/",
          "height": 35
        },
        "id": "-SyILQrE4jN5",
        "outputId": "8b060ac4-3b92-4a98-8ce0-bb3977fcd73c"
      },
      "source": [
        "x"
      ],
      "execution_count": null,
      "outputs": [
        {
          "output_type": "execute_result",
          "data": {
            "application/vnd.google.colaboratory.intrinsic+json": {
              "type": "string"
            },
            "text/plain": [
              "'five'"
            ]
          },
          "metadata": {},
          "execution_count": 10
        }
      ]
    },
    {
      "cell_type": "code",
      "metadata": {
        "colab": {
          "base_uri": "https://localhost:8080/"
        },
        "id": "-2cohXZA4kCk",
        "outputId": "6ce6659b-a1e0-4f40-8eff-97fb1de47927"
      },
      "source": [
        "y"
      ],
      "execution_count": null,
      "outputs": [
        {
          "output_type": "execute_result",
          "data": {
            "text/plain": [
              "5"
            ]
          },
          "metadata": {},
          "execution_count": 11
        }
      ]
    },
    {
      "cell_type": "code",
      "metadata": {
        "colab": {
          "base_uri": "https://localhost:8080/"
        },
        "id": "EwpYntvr4lZ8",
        "outputId": "02f45dff-7ea3-4338-d2e0-3178ad1979e9"
      },
      "source": [
        "z"
      ],
      "execution_count": null,
      "outputs": [
        {
          "output_type": "execute_result",
          "data": {
            "text/plain": [
              "True"
            ]
          },
          "metadata": {},
          "execution_count": 12
        }
      ]
    },
    {
      "cell_type": "code",
      "metadata": {
        "id": "hBXvmOxg4miW"
      },
      "source": [
        "(monday, tuesday, wednesday, thursday, friday, saturday, sunday) = tuple(range(1,8))"
      ],
      "execution_count": null,
      "outputs": []
    },
    {
      "cell_type": "code",
      "metadata": {
        "colab": {
          "base_uri": "https://localhost:8080/"
        },
        "id": "DElTS6655gJe",
        "outputId": "9a0a28c5-f5da-4c12-e579-0527767c8958"
      },
      "source": [
        "monday"
      ],
      "execution_count": null,
      "outputs": [
        {
          "output_type": "execute_result",
          "data": {
            "text/plain": [
              "1"
            ]
          },
          "metadata": {},
          "execution_count": 14
        }
      ]
    },
    {
      "cell_type": "code",
      "metadata": {
        "colab": {
          "base_uri": "https://localhost:8080/"
        },
        "id": "fXSXapNF5hXF",
        "outputId": "fd9d8411-aa0f-4250-f5c9-330b5c8c2785"
      },
      "source": [
        "sunday"
      ],
      "execution_count": null,
      "outputs": [
        {
          "output_type": "execute_result",
          "data": {
            "text/plain": [
              "7"
            ]
          },
          "metadata": {},
          "execution_count": 15
        }
      ]
    },
    {
      "cell_type": "code",
      "metadata": {
        "colab": {
          "base_uri": "https://localhost:8080/"
        },
        "id": "g6ZwIC5Z5tJw",
        "outputId": "caed4ee7-ab65-41aa-959d-db898f8eca1a"
      },
      "source": [
        "tuple(range(1,8))"
      ],
      "execution_count": null,
      "outputs": [
        {
          "output_type": "execute_result",
          "data": {
            "text/plain": [
              "(1, 2, 3, 4, 5, 6, 7)"
            ]
          },
          "metadata": {},
          "execution_count": 16
        }
      ]
    },
    {
      "cell_type": "code",
      "metadata": {
        "id": "F3WP23F95ik2"
      },
      "source": [
        "a = [1,2,3,4] + [\"bir\", \"iki\", \"üç\"]"
      ],
      "execution_count": null,
      "outputs": []
    },
    {
      "cell_type": "code",
      "metadata": {
        "colab": {
          "base_uri": "https://localhost:8080/"
        },
        "id": "sVU0WZgR8aM_",
        "outputId": "fb3f179c-9519-4fdf-f71c-885c32d1a211"
      },
      "source": [
        "a"
      ],
      "execution_count": null,
      "outputs": [
        {
          "output_type": "execute_result",
          "data": {
            "text/plain": [
              "[1, 2, 3, 4, 'bir', 'iki', 'üç']"
            ]
          },
          "metadata": {},
          "execution_count": 27
        }
      ]
    },
    {
      "cell_type": "code",
      "metadata": {
        "colab": {
          "base_uri": "https://localhost:8080/"
        },
        "id": "CxlmVzWq8w9M",
        "outputId": "013f068d-305a-4e11-98d1-deba7c7c9862"
      },
      "source": [
        "a.extend([7,8,9])\n",
        "a"
      ],
      "execution_count": null,
      "outputs": [
        {
          "output_type": "execute_result",
          "data": {
            "text/plain": [
              "[1, 2, 3, 4, 'bir', 'iki', 'üç', 7, 8, 9, 7, 8, 9, 7, 8, 9, 7, 8, 9]"
            ]
          },
          "metadata": {},
          "execution_count": 32
        }
      ]
    },
    {
      "cell_type": "code",
      "metadata": {
        "colab": {
          "base_uri": "https://localhost:8080/",
          "height": 166
        },
        "id": "ZO-z_M_c650L",
        "outputId": "8dd6658c-9334-4941-8e71-cdd271ae82b4"
      },
      "source": [
        "a, b = (10,20,30,40)"
      ],
      "execution_count": null,
      "outputs": [
        {
          "output_type": "error",
          "ename": "ValueError",
          "evalue": "ignored",
          "traceback": [
            "\u001b[0;31m---------------------------------------------------------------------------\u001b[0m",
            "\u001b[0;31mValueError\u001b[0m                                Traceback (most recent call last)",
            "\u001b[0;32m<ipython-input-18-cef251b644f3>\u001b[0m in \u001b[0;36m<module>\u001b[0;34m()\u001b[0m\n\u001b[0;32m----> 1\u001b[0;31m \u001b[0ma\u001b[0m\u001b[0;34m,\u001b[0m \u001b[0mb\u001b[0m \u001b[0;34m=\u001b[0m \u001b[0;34m(\u001b[0m\u001b[0;36m10\u001b[0m\u001b[0;34m,\u001b[0m\u001b[0;36m20\u001b[0m\u001b[0;34m,\u001b[0m\u001b[0;36m30\u001b[0m\u001b[0;34m,\u001b[0m\u001b[0;36m40\u001b[0m\u001b[0;34m)\u001b[0m\u001b[0;34m\u001b[0m\u001b[0;34m\u001b[0m\u001b[0m\n\u001b[0m",
            "\u001b[0;31mValueError\u001b[0m: too many values to unpack (expected 2)"
          ]
        }
      ]
    },
    {
      "cell_type": "code",
      "metadata": {
        "id": "zFOjAxkN6-Hw"
      },
      "source": [
        "a, _, b, _ = (10,20,30,40)"
      ],
      "execution_count": null,
      "outputs": []
    },
    {
      "cell_type": "code",
      "metadata": {
        "colab": {
          "base_uri": "https://localhost:8080/"
        },
        "id": "Hx_-tSBn7IAn",
        "outputId": "596ba133-828a-4feb-a987-6298f593ee39"
      },
      "source": [
        "a"
      ],
      "execution_count": null,
      "outputs": [
        {
          "output_type": "execute_result",
          "data": {
            "text/plain": [
              "10"
            ]
          },
          "metadata": {},
          "execution_count": 20
        }
      ]
    },
    {
      "cell_type": "code",
      "metadata": {
        "colab": {
          "base_uri": "https://localhost:8080/"
        },
        "id": "yOc_KEfW7IhY",
        "outputId": "9d176594-52dc-459b-d187-a351c2ace0ed"
      },
      "source": [
        "b"
      ],
      "execution_count": null,
      "outputs": [
        {
          "output_type": "execute_result",
          "data": {
            "text/plain": [
              "30"
            ]
          },
          "metadata": {},
          "execution_count": 21
        }
      ]
    },
    {
      "cell_type": "code",
      "metadata": {
        "id": "kQSsSltP7JgF"
      },
      "source": [
        "x, y, *z = (11,22,33,44,55)"
      ],
      "execution_count": null,
      "outputs": []
    },
    {
      "cell_type": "code",
      "metadata": {
        "colab": {
          "base_uri": "https://localhost:8080/"
        },
        "id": "sYQlU61Q7kLR",
        "outputId": "36745b9f-9217-4ddb-b38a-1e8f6b99993a"
      },
      "source": [
        "x"
      ],
      "execution_count": null,
      "outputs": [
        {
          "output_type": "execute_result",
          "data": {
            "text/plain": [
              "11"
            ]
          },
          "metadata": {},
          "execution_count": 23
        }
      ]
    },
    {
      "cell_type": "code",
      "metadata": {
        "colab": {
          "base_uri": "https://localhost:8080/"
        },
        "id": "H9mWdXRm7kuE",
        "outputId": "331d4e75-40c3-45d7-f166-ba7f3600183c"
      },
      "source": [
        "y"
      ],
      "execution_count": null,
      "outputs": [
        {
          "output_type": "execute_result",
          "data": {
            "text/plain": [
              "22"
            ]
          },
          "metadata": {},
          "execution_count": 24
        }
      ]
    },
    {
      "cell_type": "code",
      "metadata": {
        "colab": {
          "base_uri": "https://localhost:8080/"
        },
        "id": "YW8dHjnz7lyB",
        "outputId": "9710bb7c-3179-411e-cb67-1b39f57bf7f7"
      },
      "source": [
        "z"
      ],
      "execution_count": null,
      "outputs": [
        {
          "output_type": "execute_result",
          "data": {
            "text/plain": [
              "[33, 44, 55]"
            ]
          },
          "metadata": {},
          "execution_count": 25
        }
      ]
    },
    {
      "cell_type": "code",
      "metadata": {
        "id": "2nSWmQ0e7prB"
      },
      "source": [
        "x , y, *_ = (11,22,33,44,55,66)"
      ],
      "execution_count": null,
      "outputs": []
    },
    {
      "cell_type": "code",
      "metadata": {
        "colab": {
          "base_uri": "https://localhost:8080/"
        },
        "id": "oPCUd-HW_-zU",
        "outputId": "94f42334-a6bd-4655-ebd1-5a2b5e02b0c2"
      },
      "source": [
        "x"
      ],
      "execution_count": null,
      "outputs": [
        {
          "output_type": "execute_result",
          "data": {
            "text/plain": [
              "11"
            ]
          },
          "metadata": {},
          "execution_count": 34
        }
      ]
    },
    {
      "cell_type": "code",
      "metadata": {
        "colab": {
          "base_uri": "https://localhost:8080/"
        },
        "id": "tcYTVfAF__ap",
        "outputId": "11361696-7cb5-4495-a27c-f745be67171d"
      },
      "source": [
        "y"
      ],
      "execution_count": null,
      "outputs": [
        {
          "output_type": "execute_result",
          "data": {
            "text/plain": [
              "22"
            ]
          },
          "metadata": {},
          "execution_count": 35
        }
      ]
    },
    {
      "cell_type": "code",
      "metadata": {
        "id": "1OVwTsV_AAXK"
      },
      "source": [
        "x, y, *z, t = (11,22,33,44,55,66,77)"
      ],
      "execution_count": null,
      "outputs": []
    },
    {
      "cell_type": "code",
      "metadata": {
        "id": "2LRSmewOBAZD"
      },
      "source": [
        "x, y, *_, t = (11,22,33,44,55,66,77)"
      ],
      "execution_count": null,
      "outputs": []
    },
    {
      "cell_type": "code",
      "metadata": {
        "colab": {
          "base_uri": "https://localhost:8080/"
        },
        "id": "CcaUv7w2EkSE",
        "outputId": "54e76d6e-b991-4682-899e-e41390a0de73"
      },
      "source": [
        "sayılar = []\n",
        "for i in range(5):\n",
        "  sayılar.append(i)\n",
        "sayılar "
      ],
      "execution_count": null,
      "outputs": [
        {
          "output_type": "execute_result",
          "data": {
            "text/plain": [
              "[0, 1, 2, 3, 4]"
            ]
          },
          "metadata": {},
          "execution_count": 39
        }
      ]
    },
    {
      "cell_type": "code",
      "metadata": {
        "colab": {
          "base_uri": "https://localhost:8080/"
        },
        "id": "vyKMgL7AEtHf",
        "outputId": "f0810c51-3540-4af0-b8aa-f996e377b561"
      },
      "source": [
        "[i for i in range(5)]"
      ],
      "execution_count": null,
      "outputs": [
        {
          "output_type": "execute_result",
          "data": {
            "text/plain": [
              "[0, 1, 2, 3, 4]"
            ]
          },
          "metadata": {},
          "execution_count": 40
        }
      ]
    },
    {
      "cell_type": "code",
      "metadata": {
        "colab": {
          "base_uri": "https://localhost:8080/"
        },
        "id": "IIhvX4vzE-Y2",
        "outputId": "35b969f4-099f-4399-a566-8a5d7e571368"
      },
      "source": [
        "[i**2 for i in range(1,6)]"
      ],
      "execution_count": null,
      "outputs": [
        {
          "output_type": "execute_result",
          "data": {
            "text/plain": [
              "[1, 4, 9, 16, 25]"
            ]
          },
          "metadata": {},
          "execution_count": 41
        }
      ]
    },
    {
      "cell_type": "code",
      "metadata": {
        "colab": {
          "base_uri": "https://localhost:8080/"
        },
        "id": "q1796e7gFDnc",
        "outputId": "5428d076-efa0-497e-acb0-d8a7c8100589"
      },
      "source": [
        "condition = True\n",
        "if condition :\n",
        "  a = 1\n",
        "else :\n",
        "  a = 0\n",
        "print(a)    "
      ],
      "execution_count": null,
      "outputs": [
        {
          "output_type": "stream",
          "name": "stdout",
          "text": [
            "1\n"
          ]
        }
      ]
    },
    {
      "cell_type": "code",
      "metadata": {
        "colab": {
          "base_uri": "https://localhost:8080/"
        },
        "id": "pNCiGmLyIDgv",
        "outputId": "f7c3c8df-7033-4bbc-c69d-2287c31aa0d7"
      },
      "source": [
        "1 if condition else 0"
      ],
      "execution_count": null,
      "outputs": [
        {
          "output_type": "execute_result",
          "data": {
            "text/plain": [
              "1"
            ]
          },
          "metadata": {},
          "execution_count": 43
        }
      ]
    },
    {
      "cell_type": "code",
      "metadata": {
        "colab": {
          "base_uri": "https://localhost:8080/"
        },
        "id": "vtKvl46RINHe",
        "outputId": "68a2a2e7-6595-4e5f-db9e-79b25449fdc5"
      },
      "source": [
        "condition = False\n",
        "1 if condition else 0"
      ],
      "execution_count": null,
      "outputs": [
        {
          "output_type": "execute_result",
          "data": {
            "text/plain": [
              "0"
            ]
          },
          "metadata": {},
          "execution_count": 44
        }
      ]
    },
    {
      "cell_type": "code",
      "metadata": {
        "colab": {
          "base_uri": "https://localhost:8080/"
        },
        "id": "fgecwp_9Ipf0",
        "outputId": "40b9c39d-85cf-4aba-e43a-fb289ad9c987"
      },
      "source": [
        "my_list = [1,2,3,4,5,6]\n",
        "new_list = []\n",
        "for i in my_list:\n",
        "  if i%2 :\n",
        "    new_list.append(i**2)\n",
        "print(new_list)    "
      ],
      "execution_count": null,
      "outputs": [
        {
          "output_type": "stream",
          "name": "stdout",
          "text": [
            "[1, 9, 25]\n"
          ]
        }
      ]
    },
    {
      "cell_type": "code",
      "metadata": {
        "colab": {
          "base_uri": "https://localhost:8080/"
        },
        "id": "pPPXjAwaJNft",
        "outputId": "c9387e45-3ed3-4bdf-a679-37dbedad274e"
      },
      "source": [
        "print([i**2 for i in my_list if i % 2])"
      ],
      "execution_count": null,
      "outputs": [
        {
          "output_type": "stream",
          "name": "stdout",
          "text": [
            "[1, 9, 25]\n"
          ]
        }
      ]
    },
    {
      "cell_type": "code",
      "metadata": {
        "colab": {
          "base_uri": "https://localhost:8080/"
        },
        "id": "-8GeNxeqRyWv",
        "outputId": "2cddf026-1353-433f-e7a2-1f0fda18ac46"
      },
      "source": [
        "my_list"
      ],
      "execution_count": null,
      "outputs": [
        {
          "output_type": "execute_result",
          "data": {
            "text/plain": [
              "[1, 2, 3, 4, 5, 6]"
            ]
          },
          "metadata": {},
          "execution_count": 47
        }
      ]
    },
    {
      "cell_type": "code",
      "metadata": {
        "colab": {
          "base_uri": "https://localhost:8080/"
        },
        "id": "CEDqDlAZR7si",
        "outputId": "d8ba3927-4170-449f-d747-27fcd7286c42"
      },
      "source": [
        "[i ** 2 for i in my_list]"
      ],
      "execution_count": null,
      "outputs": [
        {
          "output_type": "execute_result",
          "data": {
            "text/plain": [
              "[1, 4, 9, 16, 25, 36]"
            ]
          },
          "metadata": {},
          "execution_count": 48
        }
      ]
    },
    {
      "cell_type": "code",
      "metadata": {
        "colab": {
          "base_uri": "https://localhost:8080/"
        },
        "id": "Xb5ZFcnMSBm-",
        "outputId": "b5ca6401-37f9-4b20-ab9a-df125d2d589b"
      },
      "source": [
        "[i ** 2 for i in my_list if i % 2]"
      ],
      "execution_count": null,
      "outputs": [
        {
          "output_type": "execute_result",
          "data": {
            "text/plain": [
              "[1, 9, 25]"
            ]
          },
          "metadata": {},
          "execution_count": 49
        }
      ]
    },
    {
      "cell_type": "code",
      "metadata": {
        "colab": {
          "base_uri": "https://localhost:8080/"
        },
        "id": "2oejDPJ-NCvi",
        "outputId": "89cb4c9b-64a6-431b-d619-1bebe88898ed"
      },
      "source": [
        "# input →  19 ⇉ output : 19 is a prime number\n",
        "# input →  10 ⇉ output : 10 is not a prime number\n",
        "a = int(input(\"Enter a number to check whether it is  a prime number or not :\"))\n",
        "counter = 0\n",
        "for i in range(2,a):\n",
        "    if a % i == 0:\n",
        "     counter += 1\n",
        "    \n",
        "if counter == 0:\n",
        "     print(f\"{a} is a prime number\")\n",
        "else :\n",
        "     print(f\"{a} is not a prime number\")    "
      ],
      "execution_count": null,
      "outputs": [
        {
          "output_type": "stream",
          "name": "stdout",
          "text": [
            "Enter a number to check whether it is  a prime number or not :10\n",
            "10 is not a prime number\n"
          ]
        }
      ]
    },
    {
      "cell_type": "code",
      "metadata": {
        "colab": {
          "base_uri": "https://localhost:8080/"
        },
        "id": "36jysLRCPD7a",
        "outputId": "d025b4f3-cd11-4b8d-985d-620c8b0e3e0d"
      },
      "source": [
        "x = int(input(\"Enter a number to check whether it is Prime number or not: \"))\n",
        "divider = 0\n",
        "for i in range(2,x):\n",
        "    if x % i == 0:\n",
        "        divider += 1\n",
        "        break\n",
        "if divider == 0:\n",
        "    print(f\"{x} is a prime number\")\n",
        "else:\n",
        "    print(f\"{x} is not a prime number\")"
      ],
      "execution_count": null,
      "outputs": [
        {
          "output_type": "stream",
          "name": "stdout",
          "text": [
            "Enter a number to check whether it is Prime number or not: 8\n",
            "8 is not a prime number\n"
          ]
        }
      ]
    }
  ]
}