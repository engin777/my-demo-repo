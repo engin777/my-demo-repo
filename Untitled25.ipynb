{
  "nbformat": 4,
  "nbformat_minor": 0,
  "metadata": {
    "colab": {
      "name": "Untitled25.ipynb",
      "provenance": [],
      "authorship_tag": "ABX9TyMvQvaYctWceAJqdFizO4c6",
      "include_colab_link": true
    },
    "kernelspec": {
      "name": "python3",
      "display_name": "Python 3"
    },
    "language_info": {
      "name": "python"
    }
  },
  "cells": [
    {
      "cell_type": "markdown",
      "metadata": {
        "id": "view-in-github",
        "colab_type": "text"
      },
      "source": [
        "<a href=\"https://colab.research.google.com/github/engin777/my-demo-repo/blob/main/Untitled25.ipynb\" target=\"_parent\"><img src=\"https://colab.research.google.com/assets/colab-badge.svg\" alt=\"Open In Colab\"/></a>"
      ]
    },
    {
      "cell_type": "markdown",
      "source": [
        ""
      ],
      "metadata": {
        "id": "Fd6JPfkLJWTe"
      }
    },
    {
      "cell_type": "markdown",
      "source": [
        "You certainly can tell which is the larger number between 210 and 215.\n",
        "But what about, say, 210 and 310? You know this one too.\n",
        "Things tend to get a bit more complicated with both different bases and exponents: which is larger between 39 and 56?\n",
        "Well, by now you have surely guessed that you have to build a function to compare powers, returning -1 if the first member is larger, 0 if they are equal, 1 otherwise; powers to compare will be provided in the [base, exponent] format:\n",
        "compare_powers([2,10],[2,15])==1\n",
        "compare_powers([2,10],[3,10])==1\n",
        "compare_powers([2,10],[2,10])==0\n",
        "compare_powers([3,9],[5,6])==-1\n",
        "compare_powers([7,7],[5,8])==-1\n",
        "Only positive integers will be tested, incluing bigger numbers - you are warned now, so be diligent try to implement an efficient solution not to drain too much on CW resources ;)!"
      ],
      "metadata": {
        "id": "QaWZwGWPJX75"
      }
    },
    {
      "cell_type": "code",
      "source": [
        "from math import gcd\n",
        "\n",
        "def compare_powers(lst1, lst2):\n",
        "    a, b = lst1\n",
        "    c, d = lst2\n",
        "\n",
        "    if a == c:\n",
        "        return 1 if d>b else -1 if d<b else 0\n",
        "    if b == d:\n",
        "        return 1 if c>a else -1 if c<a else 0\n",
        "\n",
        "    x = gcd(b, d)\n",
        "    b //= x\n",
        "    d //= x\n",
        "\n",
        "    return 1 if c**d>a**b else -1 if c**d<a**b else 0\n",
        "\n",
        "print(compare_powers([2400, 4800],[3000, 4000]))"
      ],
      "metadata": {
        "colab": {
          "base_uri": "https://localhost:8080/"
        },
        "id": "rTTA3ddMJZ4C",
        "outputId": "2906e7e2-89e0-4f88-bcb4-1a2c7269329a"
      },
      "execution_count": 1,
      "outputs": [
        {
          "output_type": "stream",
          "name": "stdout",
          "text": [
            "-1\n"
          ]
        }
      ]
    }
  ]
}