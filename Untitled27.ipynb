{
  "nbformat": 4,
  "nbformat_minor": 0,
  "metadata": {
    "colab": {
      "name": "Untitled27.ipynb",
      "provenance": [],
      "authorship_tag": "ABX9TyMIDbBRv/cHADFkGigzF14q",
      "include_colab_link": true
    },
    "kernelspec": {
      "name": "python3",
      "display_name": "Python 3"
    },
    "language_info": {
      "name": "python"
    }
  },
  "cells": [
    {
      "cell_type": "markdown",
      "metadata": {
        "id": "view-in-github",
        "colab_type": "text"
      },
      "source": [
        "<a href=\"https://colab.research.google.com/github/engin777/my-demo-repo/blob/main/Untitled27.ipynb\" target=\"_parent\"><img src=\"https://colab.research.google.com/assets/colab-badge.svg\" alt=\"Open In Colab\"/></a>"
      ]
    },
    {
      "cell_type": "code",
      "execution_count": null,
      "metadata": {
        "id": "8q1Tigb1UPlC"
      },
      "outputs": [],
      "source": [
        "Boxing yarismasi oyunu:\n",
        "2 Player sirayla birbirlerine sirayla vurmaya basliyor. İlk baslayani kura ile belirliyorlar. Biri yikilana kadar oyun devam ediyor. Her yumrugun diger oyuncuyu yikma ihtimali 10%.\n",
        "\n",
        "Output:\n",
        "\n",
        "Fight!!!\n",
        "Player #2 hits\n",
        "Player #1 hits\n",
        "Player #2 hits\n",
        "...\n",
        "Player #1 hits and knocks out!\n",
        "Game over!!!"
      ]
    },
    {
      "cell_type": "markdown",
      "source": [
        ""
      ],
      "metadata": {
        "id": "-3p4S5CMUQLE"
      }
    },
    {
      "cell_type": "markdown",
      "source": [
        ""
      ],
      "metadata": {
        "id": "BhkjYbmYUTkm"
      }
    },
    {
      "cell_type": "code",
      "source": [
        "from random import choice\n",
        "\n",
        "numbers = []\n",
        "for i in range(101):\n",
        "    numbers.append(i)\n",
        "\n",
        "fighter1 = 0\n",
        "fighter2 = 0\n",
        "punch = 10\n",
        "\n",
        "list1 = [\"fighter1\", \"fighter2\"]\n",
        "c = choice(list1)\n",
        "\n",
        "\n",
        "fightend = False\n",
        "if c == \"fighter1\":\n",
        "    while fightend != True:\n",
        "        fighter1 += punch\n",
        "        print(\"fighter1 punch\")\n",
        "        a = choice(numbers)\n",
        "        \n",
        "        if a <= fighter1:\n",
        "            fightend = True\n",
        "            print(\"fighter1 wins\")\n",
        "        else:\n",
        "            fighter2 += punch\n",
        "            print(\"fighter2 punch\")\n",
        "            b = choice(numbers)\n",
        "            \n",
        "            if  b <= fighter2:\n",
        "                fightend = True\n",
        "                print(\"fighter2 wins\")   \n",
        "\n",
        "else:\n",
        "    while fightend != True:\n",
        "        fighter2 += punch\n",
        "        print(\"fighter2 punch\")\n",
        "        b = choice(numbers)\n",
        "        \n",
        "        if b <= fighter2:\n",
        "            fightend = True\n",
        "            print(\"fighter2 wins\")\n",
        "        else:\n",
        "            fighter1 += punch\n",
        "            print(\"fighter1 punch\")\n",
        "            a = choice(numbers)\n",
        "            \n",
        "            if  a <= fighter1:\n",
        "                fightend = True\n",
        "                print(\"fighter1 wins\") "
      ],
      "metadata": {
        "colab": {
          "base_uri": "https://localhost:8080/"
        },
        "id": "hiGrZGlVUb7k",
        "outputId": "18430b07-3f1f-4d39-ada0-d30b2ed9aba2"
      },
      "execution_count": 1,
      "outputs": [
        {
          "output_type": "stream",
          "name": "stdout",
          "text": [
            "fighter1 punch\n",
            "fighter2 punch\n",
            "fighter1 punch\n",
            "fighter2 punch\n",
            "fighter1 punch\n",
            "fighter1 wins\n"
          ]
        }
      ]
    }
  ]
}