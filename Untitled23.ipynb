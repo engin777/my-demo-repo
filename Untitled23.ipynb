{
  "nbformat": 4,
  "nbformat_minor": 0,
  "metadata": {
    "colab": {
      "name": "Untitled23.ipynb",
      "provenance": [],
      "authorship_tag": "ABX9TyPJ6S1oh6pqtIlHCxv0ahh6",
      "include_colab_link": true
    },
    "kernelspec": {
      "name": "python3",
      "display_name": "Python 3"
    },
    "language_info": {
      "name": "python"
    }
  },
  "cells": [
    {
      "cell_type": "markdown",
      "metadata": {
        "id": "view-in-github",
        "colab_type": "text"
      },
      "source": [
        "<a href=\"https://colab.research.google.com/github/engin777/my-demo-repo/blob/main/Untitled23.ipynb\" target=\"_parent\"><img src=\"https://colab.research.google.com/assets/colab-badge.svg\" alt=\"Open In Colab\"/></a>"
      ]
    },
    {
      "cell_type": "markdown",
      "source": [
        ""
      ],
      "metadata": {
        "id": "5HY0qm1y2cY9"
      }
    },
    {
      "cell_type": "markdown",
      "source": [
        "Greed is a dice game played with five six-sided dice. Your mission, should you choose to accept it, is to score a throw according to these rules. You will always be given an array with five six-sided dice values.\n",
        " Three 1's => 1000 points\n",
        " Three 6's =>  600 points\n",
        " Three 5's =>  500 points\n",
        " Three 4's =>  400 points\n",
        " Three 3's =>  300 points\n",
        " Three 2's =>  200 points\n",
        " One   1   =>  100 points\n",
        " One   5   =>   50 point\n",
        "A single die can only be counted once in each roll. For example, a given \"5\" can only count as part of a triplet (contributing to the 500 points) or as a single 50 points, but not both in the same roll.\n",
        "Example scoring\n",
        " Throw       Score\n",
        " ---------   ------------------\n",
        " 5 1 3 4 1   250:  50 (for the 5) + 2 * 100 (for the 1s)\n",
        " 1 1 1 3 1   1100: 1000 (for three 1s) + 100 (for the other 1)\n",
        " 2 4 4 5 4   450:  400 (for three 4s) + 50 (for the 5)\n",
        "In some languages, it is possible to mutate the input to the function. This is something that you should never do. If you mutate the input, you will not be able to pass all the tests."
      ],
      "metadata": {
        "id": "oC98u7fW2iTY"
      }
    },
    {
      "cell_type": "code",
      "source": [
        "def dice_game(n):\n",
        "  n_dict,score={},0\n",
        "  for i in range(1,7):\n",
        "    if i in n:n_dict.setdefault(i,n.count(i))\n",
        "    else:n_dict.setdefault(i,0)\n",
        "  for i in range(1,7):\n",
        "    if n_dict[i]>=3 and i!=1:\n",
        "      score+=i*100+n_dict[1]%3*100+n_dict[5]%3*50\n",
        "    elif n_dict[1]>=3:\n",
        "      score+=1000+n_dict[1]%3*100+n_dict[5]%3*50\n",
        "      break\n",
        "    elif max(n_dict.values())<3:\n",
        "      score+=n_dict[1]%3*100+n_dict[5]%3*50\n",
        "      break\n",
        "  return score\n",
        "print(dice_game([5,1,3,4,1]))\n",
        "print(dice_game([1,1,1,3,1]))\n",
        "print(dice_game([2,4,4,5,4]))\n",
        "print(dice_game([1,1,1,1,1]))\n",
        "print(dice_game([5,5,5,5,5]))\n",
        "print(dice_game([5,5,5,1,5]))"
      ],
      "metadata": {
        "id": "g7OngdNU2m9F"
      },
      "execution_count": null,
      "outputs": []
    }
  ]
}