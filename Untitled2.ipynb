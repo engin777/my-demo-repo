{
  "nbformat": 4,
  "nbformat_minor": 0,
  "metadata": {
    "colab": {
      "name": "Untitled2.ipynb",
      "provenance": [],
      "authorship_tag": "ABX9TyOS9sbm8wYVWrSjn4NZE/TA",
      "include_colab_link": true
    },
    "kernelspec": {
      "name": "python3",
      "display_name": "Python 3"
    },
    "language_info": {
      "name": "python"
    }
  },
  "cells": [
    {
      "cell_type": "markdown",
      "metadata": {
        "id": "view-in-github",
        "colab_type": "text"
      },
      "source": [
        "<a href=\"https://colab.research.google.com/github/engin777/my-demo-repo/blob/main/Untitled2.ipynb\" target=\"_parent\"><img src=\"https://colab.research.google.com/assets/colab-badge.svg\" alt=\"Open In Colab\"/></a>"
      ]
    },
    {
      "cell_type": "code",
      "metadata": {
        "colab": {
          "base_uri": "https://localhost:8080/"
        },
        "id": "DlNQ8r9M-ZK8",
        "outputId": "204fcacd-948d-486c-b1ab-19b81e11ddeb"
      },
      "source": [
        "no1 =46\n",
        "print(no1/23)"
      ],
      "execution_count": null,
      "outputs": [
        {
          "output_type": "stream",
          "name": "stdout",
          "text": [
            "2.0\n"
          ]
        }
      ]
    },
    {
      "cell_type": "code",
      "metadata": {
        "colab": {
          "base_uri": "https://localhost:8080/"
        },
        "id": "gueduq7w-hYW",
        "outputId": "6ac8128e-28c7-415c-8c04-8f032763cbb3"
      },
      "source": [
        "print(( 3* 4)/2)"
      ],
      "execution_count": null,
      "outputs": [
        {
          "output_type": "stream",
          "name": "stdout",
          "text": [
            "6.0\n"
          ]
        }
      ]
    },
    {
      "cell_type": "code",
      "metadata": {
        "colab": {
          "base_uri": "https://localhost:8080/"
        },
        "id": "41wPd8tJ-uE5",
        "outputId": "d3c80400-1a65-4651-bd7f-07fe977a9bf8"
      },
      "source": [
        "print(7//2)"
      ],
      "execution_count": null,
      "outputs": [
        {
          "output_type": "stream",
          "name": "stdout",
          "text": [
            "3\n"
          ]
        }
      ]
    },
    {
      "cell_type": "code",
      "metadata": {
        "colab": {
          "base_uri": "https://localhost:8080/"
        },
        "id": "LBuRv4h2-45y",
        "outputId": "2fdb0691-b24a-4467-9a0c-fbcb7d0ced7e"
      },
      "source": [
        "print(9%2)"
      ],
      "execution_count": null,
      "outputs": [
        {
          "output_type": "stream",
          "name": "stdout",
          "text": [
            "1\n"
          ]
        }
      ]
    },
    {
      "cell_type": "code",
      "metadata": {
        "colab": {
          "base_uri": "https://localhost:8080/"
        },
        "id": "zsOgGaX5_BGJ",
        "outputId": "e79079fe-29a4-4817-adf1-363b95315cfd"
      },
      "source": [
        "print('Result of this(23+8) sum:',23+8)"
      ],
      "execution_count": null,
      "outputs": [
        {
          "output_type": "stream",
          "name": "stdout",
          "text": [
            "Result of this(23+8) sum: 31\n"
          ]
        }
      ]
    },
    {
      "cell_type": "code",
      "metadata": {
        "colab": {
          "base_uri": "https://localhost:8080/"
        },
        "id": "TNgYug2a_qIt",
        "outputId": "5cc423f2-be4e-46e4-ccd1-9d7d063f141f"
      },
      "source": [
        "print(\"yesterday I ate\",2,\"apples\")"
      ],
      "execution_count": null,
      "outputs": [
        {
          "output_type": "stream",
          "name": "stdout",
          "text": [
            "yesterday I ate 2 apples\n"
          ]
        }
      ]
    },
    {
      "cell_type": "code",
      "metadata": {
        "colab": {
          "base_uri": "https://localhost:8080/"
        },
        "id": "zz5ia9lIA3NE",
        "outputId": "5351f09f-2aa8-4462-9cf3-3e3f03b8c5d6"
      },
      "source": [
        "print('C:\\\\november\\number_expenditure.txt')"
      ],
      "execution_count": null,
      "outputs": [
        {
          "output_type": "stream",
          "name": "stdout",
          "text": [
            "C:\\november\n",
            "umber_expenditure.txt\n"
          ]
        }
      ]
    },
    {
      "cell_type": "code",
      "metadata": {
        "colab": {
          "base_uri": "https://localhost:8080/"
        },
        "id": "W4e25yGZDjxf",
        "outputId": "ad0fb9bc-9f71-4a56-e7e0-fc176ccf298c"
      },
      "source": [
        "print(\"one\", \"two\", \"three\", sep=\"\\t\")"
      ],
      "execution_count": null,
      "outputs": [
        {
          "output_type": "stream",
          "name": "stdout",
          "text": [
            "one\ttwo\tthree\n"
          ]
        }
      ]
    },
    {
      "cell_type": "code",
      "metadata": {
        "colab": {
          "base_uri": "https://localhost:8080/"
        },
        "id": "8Ugo6JjwD5ab",
        "outputId": "286a0115-9233-4e1c-897e-32981b322962"
      },
      "source": [
        "print('we','\\bare','\\bunited')"
      ],
      "execution_count": null,
      "outputs": [
        {
          "output_type": "stream",
          "name": "stdout",
          "text": [
            "we \bare \bunited\n"
          ]
        }
      ]
    },
    {
      "cell_type": "code",
      "metadata": {
        "colab": {
          "base_uri": "https://localhost:8080/"
        },
        "id": "rVIT7HJFEKCz",
        "outputId": "8d5d3f3e-8fe7-4cfa-ae2e-26333e7e7142"
      },
      "source": [
        "print('it\\'s funny to learn Python')"
      ],
      "execution_count": null,
      "outputs": [
        {
          "output_type": "stream",
          "name": "stdout",
          "text": [
            "it's funny to learn Python\n"
          ]
        }
      ]
    },
    {
      "cell_type": "code",
      "metadata": {
        "colab": {
          "base_uri": "https://localhost:8080/"
        },
        "id": "lUkQSYLEFder",
        "outputId": "3a97a9bb-d060-406b-d478-85e10d563e7a"
      },
      "source": [
        "text1= 'it'\n",
        "text2='easy'\n",
        "print(text1 +'\\'s very '+ text2)"
      ],
      "execution_count": null,
      "outputs": [
        {
          "output_type": "stream",
          "name": "stdout",
          "text": [
            "it's very easy\n"
          ]
        }
      ]
    },
    {
      "cell_type": "code",
      "metadata": {
        "id": "QclCEBQPEml5",
        "colab": {
          "base_uri": "https://localhost:8080/"
        },
        "outputId": "fa1e417e-d89d-43f3-cbde-10b4e6eb661c"
      },
      "source": [
        "fruit = 'orange'\n",
        "print('word:', fruit)\n",
        "print('first letter:', fruit[0])\n",
        "print('second letter:', fruit[1])\n",
        "print(\"3rd to 5th letters:\", fruit[2:5])\n",
        "print(\"letter all after 3rd:\", fruit[2:])"
      ],
      "execution_count": null,
      "outputs": [
        {
          "output_type": "stream",
          "name": "stdout",
          "text": [
            "word: orange\n",
            "first letter: o\n",
            "second letter: r\n",
            "3rd to 5th letters: ang\n",
            "letter all after 3rd: ange\n"
          ]
        }
      ]
    },
    {
      "cell_type": "code",
      "metadata": {
        "colab": {
          "base_uri": "https://localhost:8080/"
        },
        "id": "UIEY2G0rBeVq",
        "outputId": "4a777a81-c2bb-4556-f2cc-504c5e1675dc"
      },
      "source": [
        "city = 'phoenix'\n",
        "print(city[1:])\n",
        "print(city[:6])\n",
        "print(city[::2])\n",
        "print(city[1::2])\n",
        "print(city[-3:])\n",
        "print(city[::-1])"
      ],
      "execution_count": null,
      "outputs": [
        {
          "output_type": "stream",
          "name": "stdout",
          "text": [
            "hoenix\n",
            "phoeni\n",
            "ponx\n",
            "hei\n",
            "nix\n",
            "xineohp\n"
          ]
        }
      ]
    },
    {
      "cell_type": "code",
      "metadata": {
        "colab": {
          "base_uri": "https://localhost:8080/"
        },
        "id": "O3PX-pU3CMFL",
        "outputId": "bf8bbc17-9128-428d-bc49-50d63fcc0945"
      },
      "source": [
        "vegetable = 'tomato'\n",
        "print('length of the word', vegetable, 'is:', len(vegetable))"
      ],
      "execution_count": null,
      "outputs": [
        {
          "output_type": "stream",
          "name": "stdout",
          "text": [
            "length of the word tomato is: 6\n"
          ]
        }
      ]
    },
    {
      "cell_type": "code",
      "metadata": {
        "id": "Lyi4BCilDds7"
      },
      "source": [
        ""
      ],
      "execution_count": null,
      "outputs": []
    },
    {
      "cell_type": "code",
      "metadata": {
        "colab": {
          "base_uri": "https://localhost:8080/",
          "height": 131
        },
        "id": "BSP9AGwqDhXD",
        "outputId": "0c73672c-773a-4e1d-835f-1c88b5111d37"
      },
      "source": [
        "print(str[4:])if str = 'Python Language'"
      ],
      "execution_count": null,
      "outputs": [
        {
          "output_type": "error",
          "ename": "SyntaxError",
          "evalue": "ignored",
          "traceback": [
            "\u001b[0;36m  File \u001b[0;32m\"<ipython-input-6-f3c16d373076>\"\u001b[0;36m, line \u001b[0;32m1\u001b[0m\n\u001b[0;31m    print(str[4:])if str = 'Python Language'\u001b[0m\n\u001b[0m                         ^\u001b[0m\n\u001b[0;31mSyntaxError\u001b[0m\u001b[0;31m:\u001b[0m invalid syntax\n"
          ]
        }
      ]
    },
    {
      "cell_type": "code",
      "metadata": {
        "colab": {
          "base_uri": "https://localhost:8080/"
        },
        "id": "SWzvpkvvDsF1",
        "outputId": "b71231a0-0855-4ede-8a5b-ce2f60377981"
      },
      "source": [
        "print('clarus' + 'way')"
      ],
      "execution_count": null,
      "outputs": [
        {
          "output_type": "stream",
          "name": "stdout",
          "text": [
            "clarusway\n"
          ]
        }
      ]
    },
    {
      "cell_type": "code",
      "metadata": {
        "colab": {
          "base_uri": "https://localhost:8080/"
        },
        "id": "n7gERu9sF6VC",
        "outputId": "2a03a093-47d0-4b61-b823-b0a9d0b35463"
      },
      "source": [
        "print(3*'no way!')"
      ],
      "execution_count": null,
      "outputs": [
        {
          "output_type": "stream",
          "name": "stdout",
          "text": [
            "no way!no way!no way!\n"
          ]
        }
      ]
    },
    {
      "cell_type": "code",
      "metadata": {
        "colab": {
          "base_uri": "https://localhost:8080/"
        },
        "id": "vUuJc4PwGCB7",
        "outputId": "6804b3f7-011d-4711-9b52-a9047e5e59bf"
      },
      "source": [
        "fruit = 'orange'\n",
        "vegetable ='tomato'\n",
        "print(\"using + :\", fruit + vegetable)\n",
        "print(\"using * :\", 3* fruit)"
      ],
      "execution_count": null,
      "outputs": [
        {
          "output_type": "stream",
          "name": "stdout",
          "text": [
            "using + : orangetomato\n",
            "using * : orangeorangeorange\n"
          ]
        }
      ]
    },
    {
      "cell_type": "code",
      "metadata": {
        "colab": {
          "base_uri": "https://localhost:8080/"
        },
        "id": "FgbHgGF3Ga-U",
        "outputId": "1101a011-5a9a-4672-e419-b196313b2134"
      },
      "source": [
        "fruit = 'orange'\n",
        "fruit += ' apple'\n",
        "fruit += ' banana'\n",
        "fruit += ' apricot'\n",
        "print(fruit)"
      ],
      "execution_count": null,
      "outputs": [
        {
          "output_type": "stream",
          "name": "stdout",
          "text": [
            "orange apple banana apricot\n"
          ]
        }
      ]
    },
    {
      "cell_type": "code",
      "metadata": {
        "colab": {
          "base_uri": "https://localhost:8080/",
          "height": 131
        },
        "id": "3j6mdMkiG2y5",
        "outputId": "1ddfed3e-3f01-4809-cb08-2bb326dc830f"
      },
      "source": [
        "print('%.5s' % x)  x = \"HelloWorld!\" "
      ],
      "execution_count": null,
      "outputs": [
        {
          "output_type": "error",
          "ename": "SyntaxError",
          "evalue": "ignored",
          "traceback": [
            "\u001b[0;36m  File \u001b[0;32m\"<ipython-input-15-2042892279fc>\"\u001b[0;36m, line \u001b[0;32m1\u001b[0m\n\u001b[0;31m    print('%.5s' % x)  x = \"HelloWorld!\"\u001b[0m\n\u001b[0m                       ^\u001b[0m\n\u001b[0;31mSyntaxError\u001b[0m\u001b[0;31m:\u001b[0m invalid syntax\n"
          ]
        }
      ]
    },
    {
      "cell_type": "code",
      "metadata": {
        "id": "YV9my1AaJY69"
      },
      "source": [
        ""
      ],
      "execution_count": null,
      "outputs": []
    },
    {
      "cell_type": "code",
      "metadata": {
        "colab": {
          "base_uri": "https://localhost:8080/"
        },
        "id": "0I_Bs1R0KdiX",
        "outputId": "1fdc025c-daf3-490d-8b4e-c7159e4d38ce"
      },
      "source": [
        "x = \"HelloWorld!\" \n",
        "print('%.5s' % x)"
      ],
      "execution_count": null,
      "outputs": [
        {
          "output_type": "stream",
          "name": "stdout",
          "text": [
            "Hello\n"
          ]
        }
      ]
    },
    {
      "cell_type": "code",
      "metadata": {
        "colab": {
          "base_uri": "https://localhost:8080/"
        },
        "id": "QYIPhrGpKuhd",
        "outputId": "5167b72a-8f54-4e1e-c463-e5ba6ab65b0e"
      },
      "source": [
        "result = f\"{4*5}\"\n",
        "print(result)"
      ],
      "execution_count": null,
      "outputs": [
        {
          "output_type": "stream",
          "name": "stdout",
          "text": [
            "20\n"
          ]
        }
      ]
    },
    {
      "cell_type": "code",
      "metadata": {
        "colab": {
          "base_uri": "https://localhost:8080/"
        },
        "id": "nOb1YLSJQfWQ",
        "outputId": "8ec75552-f22e-45d8-9d4d-f595847c1688"
      },
      "source": [
        "x= 'orange'\n",
        "y='tomato'\n",
        "z= 6\n",
        "output = f\"The amount of {x} and {y} we bought are totally {z} pounds\"\n",
        "print(output)"
      ],
      "execution_count": null,
      "outputs": [
        {
          "output_type": "stream",
          "name": "stdout",
          "text": [
            "The amount of orange and tomato we bought are totally 6 pounds\n"
          ]
        }
      ]
    },
    {
      "cell_type": "code",
      "metadata": {
        "id": "i8_KJplUT6QM"
      },
      "source": [
        ""
      ],
      "execution_count": null,
      "outputs": []
    },
    {
      "cell_type": "code",
      "metadata": {
        "colab": {
          "base_uri": "https://localhost:8080/"
        },
        "id": "kZGy5j_hUAQv",
        "outputId": "7b719fd3-4910-49bd-fc0f-3723759aed92"
      },
      "source": [
        "my_name = 'joseph'\n",
        "output = f\"My name is {my_name.capitalize()}\"\n",
        "print(output)"
      ],
      "execution_count": null,
      "outputs": [
        {
          "output_type": "stream",
          "name": "stdout",
          "text": [
            "My name is Joseph\n"
          ]
        }
      ]
    },
    {
      "cell_type": "code",
      "metadata": {
        "colab": {
          "base_uri": "https://localhost:8080/"
        },
        "id": "_wHNZAl7UWF-",
        "outputId": "474cd29d-344c-424a-dbf2-1298903a2cb7"
      },
      "source": [
        "name = \"joseph\"\n",
        "job = \"teachers\"\n",
        "domain =\"data science\"\n",
        "message = f\"Hi {name}.\"\\\n",
        "f\"You are one of the {job}\"\\\n",
        "f\" in the {domain} section.\"\n",
        "print(message)"
      ],
      "execution_count": null,
      "outputs": [
        {
          "output_type": "stream",
          "name": "stdout",
          "text": [
            "Hi joseph.You are one of the teachers in the data science section.\n"
          ]
        }
      ]
    },
    {
      "cell_type": "code",
      "metadata": {
        "colab": {
          "base_uri": "https://localhost:8080/"
        },
        "id": "rCbivOOAaAgV",
        "outputId": "efaa5bae-1cbb-4477-ef30-cf56eeaae707"
      },
      "source": [
        "first_name = 'engin'\n",
        "last_name ='kazar'\n",
        "#output = 'hello, ' + first_name +' '+last_name\n",
        "#output= 'Hello, {} {}'.format(first_name, last_name)\n",
        "#output= 'hello,{1}, {0}'.format(first_name, last_name)\n",
        "output = f'Hello, {first_name} {last_name}'\n",
        "print(output)"
      ],
      "execution_count": null,
      "outputs": [
        {
          "output_type": "stream",
          "name": "stdout",
          "text": [
            "Hello, engin kazar\n"
          ]
        }
      ]
    },
    {
      "cell_type": "code",
      "metadata": {
        "id": "xngrk30ocElw"
      },
      "source": [
        ""
      ],
      "execution_count": null,
      "outputs": []
    }
  ]
}