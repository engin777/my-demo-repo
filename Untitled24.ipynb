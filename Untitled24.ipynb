{
  "nbformat": 4,
  "nbformat_minor": 0,
  "metadata": {
    "colab": {
      "name": "Untitled24.ipynb",
      "provenance": [],
      "authorship_tag": "ABX9TyMo7LOpzkb8tJAuOZCxZNBU",
      "include_colab_link": true
    },
    "kernelspec": {
      "name": "python3",
      "display_name": "Python 3"
    },
    "language_info": {
      "name": "python"
    }
  },
  "cells": [
    {
      "cell_type": "markdown",
      "metadata": {
        "id": "view-in-github",
        "colab_type": "text"
      },
      "source": [
        "<a href=\"https://colab.research.google.com/github/engin777/my-demo-repo/blob/main/Untitled24.ipynb\" target=\"_parent\"><img src=\"https://colab.research.google.com/assets/colab-badge.svg\" alt=\"Open In Colab\"/></a>"
      ]
    },
    {
      "cell_type": "markdown",
      "source": [
        "Boxing competition game:\n",
        "2 Players start hitting each other in turn. They decide who starts first by drawing lots. The game continues until someone is knocked down. 10% chance of each punch knocking down the other player.\n",
        "\n",
        "Output:\n",
        "\n",
        "Fight!!!\n",
        "Player #2 hits\n",
        "Player #1 hits\n",
        "Player #2 hits\n",
        "...\n",
        "Player #1 hits and knocks out!\n",
        "Game over!!!"
      ],
      "metadata": {
        "id": "r1eYt8zEMhLS"
      }
    },
    {
      "cell_type": "code",
      "source": [
        "import random\n",
        "hitter=[\"Player #1\",\"Player #2\"]\n",
        "hitpower = [1, 2, 3, 4, 5, 6, 7, 8, 9, 10]\n",
        "index = hitter.index(random.choice(hitter))\n",
        "print(\"Fight!!!\")\n",
        "while True:\n",
        "      hit = random.choice(hitpower)\n",
        "      if  hit == 10:\n",
        "          break\n",
        "      else:\n",
        "          print( hitter[index], \"hits\", \"power of\", hit)\n",
        "          hitter = hitter[1:] + hitter[:1]\n",
        "print (f\"{hitter[index]} hits power of {hit} and knocks out!Game over!!!\") "
      ],
      "metadata": {
        "colab": {
          "base_uri": "https://localhost:8080/"
        },
        "id": "mAKAgBwrMlJy",
        "outputId": "7cc4491e-b93c-4d96-a05c-fd8dd7ce104b"
      },
      "execution_count": 1,
      "outputs": [
        {
          "output_type": "stream",
          "name": "stdout",
          "text": [
            "Fight!!!\n",
            "Player #2 hits power of 6\n",
            "Player #1 hits power of 3\n",
            "Player #2 hits power of 6\n",
            "Player #1 hits power of 4\n",
            "Player #2 hits power of 1\n",
            "Player #1 hits power of 2\n",
            "Player #2 hits power of 9\n",
            "Player #1 hits power of 6\n",
            "Player #2 hits power of 2\n",
            "Player #1 hits power of 8\n",
            "Player #2 hits power of 10 and knocks out!Game over!!!\n"
          ]
        }
      ]
    }
  ]
}