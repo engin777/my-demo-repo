{
  "nbformat": 4,
  "nbformat_minor": 0,
  "metadata": {
    "colab": {
      "name": "Untitled21.ipynb",
      "provenance": [],
      "authorship_tag": "ABX9TyMQLzNns/3j42hWpjlUuW/1",
      "include_colab_link": true
    },
    "kernelspec": {
      "name": "python3",
      "display_name": "Python 3"
    },
    "language_info": {
      "name": "python"
    }
  },
  "cells": [
    {
      "cell_type": "markdown",
      "metadata": {
        "id": "view-in-github",
        "colab_type": "text"
      },
      "source": [
        "<a href=\"https://colab.research.google.com/github/engin777/my-demo-repo/blob/main/Untitled21.ipynb\" target=\"_parent\"><img src=\"https://colab.research.google.com/assets/colab-badge.svg\" alt=\"Open In Colab\"/></a>"
      ]
    },
    {
      "cell_type": "code",
      "execution_count": null,
      "metadata": {
        "id": "T7sTpFcT79df"
      },
      "outputs": [],
      "source": [
        "#@title Largest number\n",
        "count=0\n",
        "array=[]\n",
        "while count < 5:\n",
        "  number= int(input('Please enter the number: '))\n",
        "  array.append(number)\n",
        "  count = count +1\n",
        "def findLargestNum(nums):\n",
        "  largest = nums[0]\n",
        "  for i in nums:\n",
        "    if i > largest:\n",
        "      largest = i\n",
        "  return largest\n",
        "print(findLargestNum(array))"
      ]
    }
  ]
}