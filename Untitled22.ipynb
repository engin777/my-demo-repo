{
  "nbformat": 4,
  "nbformat_minor": 0,
  "metadata": {
    "colab": {
      "name": "Untitled22.ipynb",
      "provenance": [],
      "authorship_tag": "ABX9TyOaNVk5uV+bS7tYeTgGU0B7",
      "include_colab_link": true
    },
    "kernelspec": {
      "name": "python3",
      "display_name": "Python 3"
    },
    "language_info": {
      "name": "python"
    }
  },
  "cells": [
    {
      "cell_type": "markdown",
      "metadata": {
        "id": "view-in-github",
        "colab_type": "text"
      },
      "source": [
        "<a href=\"https://colab.research.google.com/github/engin777/my-demo-repo/blob/main/Untitled22.ipynb\" target=\"_parent\"><img src=\"https://colab.research.google.com/assets/colab-badge.svg\" alt=\"Open In Colab\"/></a>"
      ]
    },
    {
      "cell_type": "code",
      "execution_count": 1,
      "metadata": {
        "colab": {
          "base_uri": "https://localhost:8080/"
        },
        "id": "O3b-mGOjaw24",
        "outputId": "d893f93b-e71b-4995-9792-41bf3b599c44"
      },
      "outputs": [
        {
          "output_type": "stream",
          "name": "stdout",
          "text": [
            "Enter a number: 5\n",
            "7\n"
          ]
        }
      ],
      "source": [
        "def isprime(n):   # Get the next prime number\n",
        "    if n == 2:\n",
        "        return True\n",
        "    elif n < 2 or not n % 2:\n",
        "        return False\n",
        "    else:\n",
        "        for i in range(3, int(n**0.5)+1, 2):\n",
        "            if not n % i:\n",
        "                return False\n",
        "    return True \n",
        "\n",
        "number = int(input(\"Enter a number: \"))\n",
        "\n",
        "for i in range(number+1, number*5):\n",
        "    if isprime(i):\n",
        "        print(i)\n",
        "        break"
      ]
    },
    {
      "cell_type": "code",
      "source": [
        "num=int(input(\"Enter your number: \"))\n",
        "for i in range(num+1,10**12):\n",
        "    for j in range(2,i):\n",
        "        if i%j==0:\n",
        "            break\n",
        "    else:\n",
        "        print(\"Next prime number is: \",i)\n",
        "        break"
      ],
      "metadata": {
        "colab": {
          "base_uri": "https://localhost:8080/"
        },
        "id": "U1r1MxLzbC9P",
        "outputId": "3c03f1e3-f7a6-48fb-af36-b89eed6694f0"
      },
      "execution_count": 2,
      "outputs": [
        {
          "output_type": "stream",
          "name": "stdout",
          "text": [
            "Enter your number: 5\n",
            "Next prime number is:  7\n"
          ]
        }
      ]
    }
  ]
}