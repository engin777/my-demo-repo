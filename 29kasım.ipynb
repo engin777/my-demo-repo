{
  "nbformat": 4,
  "nbformat_minor": 0,
  "metadata": {
    "colab": {
      "name": "29kasım.ipynb",
      "provenance": [],
      "authorship_tag": "ABX9TyPeTimh1RRowatNNkLeNls4",
      "include_colab_link": true
    },
    "kernelspec": {
      "name": "python3",
      "display_name": "Python 3"
    },
    "language_info": {
      "name": "python"
    }
  },
  "cells": [
    {
      "cell_type": "markdown",
      "metadata": {
        "id": "view-in-github",
        "colab_type": "text"
      },
      "source": [
        "<a href=\"https://colab.research.google.com/github/engin777/my-demo-repo/blob/main/29kas%C4%B1m.ipynb\" target=\"_parent\"><img src=\"https://colab.research.google.com/assets/colab-badge.svg\" alt=\"Open In Colab\"/></a>"
      ]
    },
    {
      "cell_type": "code",
      "metadata": {
        "colab": {
          "base_uri": "https://localhost:8080/"
        },
        "id": "8xBsLN9kA_vG",
        "outputId": "43536544-2424-4fc2-b7db-f1b111b3c279"
      },
      "source": [
        "(lambda x : x[::-1])([1,2,3])"
      ],
      "execution_count": null,
      "outputs": [
        {
          "output_type": "execute_result",
          "data": {
            "text/plain": [
              "[3, 2, 1]"
            ]
          },
          "metadata": {},
          "execution_count": 1
        }
      ]
    },
    {
      "cell_type": "code",
      "metadata": {
        "colab": {
          "base_uri": "https://localhost:8080/",
          "height": 35
        },
        "id": "qp7PCVov32yC",
        "outputId": "fd2b79c3-5ac6-4364-d70a-718bfc5e29ce"
      },
      "source": [
        "(lambda x : x[::-1])('ali')"
      ],
      "execution_count": null,
      "outputs": [
        {
          "output_type": "execute_result",
          "data": {
            "application/vnd.google.colaboratory.intrinsic+json": {
              "type": "string"
            },
            "text/plain": [
              "'ila'"
            ]
          },
          "metadata": {},
          "execution_count": 5
        }
      ]
    },
    {
      "cell_type": "code",
      "metadata": {
        "colab": {
          "base_uri": "https://localhost:8080/"
        },
        "id": "jv3wsSQN8a7Z",
        "outputId": "4c9ae225-2bf4-48d5-98db-3ebeefd35e25"
      },
      "source": [
        "(lambda a,b : (a+b)/2)(3,5)"
      ],
      "execution_count": null,
      "outputs": [
        {
          "output_type": "execute_result",
          "data": {
            "text/plain": [
              "4.0"
            ]
          },
          "metadata": {},
          "execution_count": 6
        }
      ]
    },
    {
      "cell_type": "code",
      "metadata": {
        "colab": {
          "base_uri": "https://localhost:8080/"
        },
        "id": "_he8PI_vBbWP",
        "outputId": "0332bfa0-74c3-4cb0-dc36-480db85be10d"
      },
      "source": [
        "average = (lambda x,y: (x+y)/2)(3,5)\n",
        "print(average)"
      ],
      "execution_count": null,
      "outputs": [
        {
          "output_type": "stream",
          "name": "stdout",
          "text": [
            "4.0\n"
          ]
        }
      ]
    },
    {
      "cell_type": "code",
      "metadata": {
        "colab": {
          "base_uri": "https://localhost:8080/"
        },
        "id": "OGGqAupcDrtT",
        "outputId": "ae1a71f8-b4a2-4a60-d043-bc2af718788d"
      },
      "source": [
        "iterable = \"clarusway\"\n",
        "reverser = lambda x: x[::-1]\n",
        "print(reverser(iterable))"
      ],
      "execution_count": null,
      "outputs": [
        {
          "output_type": "stream",
          "name": "stdout",
          "text": [
            "yawsuralc\n"
          ]
        }
      ]
    },
    {
      "cell_type": "code",
      "metadata": {
        "colab": {
          "base_uri": "https://localhost:8080/"
        },
        "id": "Y9bXU9aME4xR",
        "outputId": "b0ae6513-f5ea-4192-9ed3-53c8b924d5bd"
      },
      "source": [
        "iterable = \"clarusway\"\n",
        "reverser = lambda x: x[::-1]\n",
        "sonuc = map(reverser,iterable)\n",
        "print(* sonuc)"
      ],
      "execution_count": null,
      "outputs": [
        {
          "output_type": "stream",
          "name": "stdout",
          "text": [
            "c l a r u s w a y\n"
          ]
        }
      ]
    },
    {
      "cell_type": "code",
      "metadata": {
        "colab": {
          "base_uri": "https://localhost:8080/"
        },
        "id": "AqkCoGah-F3f",
        "outputId": "b5d9b835-47b0-430d-bce5-2f6233b3435b"
      },
      "source": [
        "liste = [1,2,3,4]\n",
        "for i in liste:\n",
        "  print(i,':',(lambda i :'odd' if i%2 != 0 else 'even')(i))"
      ],
      "execution_count": null,
      "outputs": [
        {
          "output_type": "stream",
          "name": "stdout",
          "text": [
            "1 : odd\n",
            "2 : even\n",
            "3 : odd\n",
            "4 : even\n"
          ]
        }
      ]
    },
    {
      "cell_type": "code",
      "metadata": {
        "id": "xIthnUK9_j8k"
      },
      "source": [
        "finder = lambda x :'odd' if i%2 != 0 else 'even'"
      ],
      "execution_count": null,
      "outputs": []
    },
    {
      "cell_type": "code",
      "metadata": {
        "id": "ayc2x4dFDqog"
      },
      "source": [
        ""
      ],
      "execution_count": null,
      "outputs": []
    },
    {
      "cell_type": "code",
      "metadata": {
        "colab": {
          "base_uri": "https://localhost:8080/"
        },
        "id": "9F1Ti48Y_qd2",
        "outputId": "6ad79bcb-901a-45c9-f3fd-6854d4a30820"
      },
      "source": [
        "print(finder(5))"
      ],
      "execution_count": null,
      "outputs": [
        {
          "output_type": "stream",
          "name": "stdout",
          "text": [
            "even\n"
          ]
        }
      ]
    },
    {
      "cell_type": "code",
      "metadata": {
        "id": "gmDQwDAg_r-V"
      },
      "source": [
        "reverser = (lambda x : x[::-1])"
      ],
      "execution_count": null,
      "outputs": []
    },
    {
      "cell_type": "code",
      "metadata": {
        "colab": {
          "base_uri": "https://localhost:8080/",
          "height": 35
        },
        "id": "o-SSsvwiAFZI",
        "outputId": "dcb7dbc9-e41a-4118-c29a-26ca9339dc6f"
      },
      "source": [
        "reverser('ekmek')"
      ],
      "execution_count": null,
      "outputs": [
        {
          "output_type": "execute_result",
          "data": {
            "application/vnd.google.colaboratory.intrinsic+json": {
              "type": "string"
            },
            "text/plain": [
              "'kemke'"
            ]
          },
          "metadata": {},
          "execution_count": 14
        }
      ]
    },
    {
      "cell_type": "code",
      "metadata": {
        "id": "Zm5ito5fEqmM"
      },
      "source": [
        ""
      ],
      "execution_count": null,
      "outputs": []
    },
    {
      "cell_type": "code",
      "metadata": {
        "id": "Mg35Kzj8BKXb"
      },
      "source": [
        "fonksiyon = lambda x : x ** 2\n",
        "iterable = [1,2,3]"
      ],
      "execution_count": null,
      "outputs": []
    },
    {
      "cell_type": "code",
      "metadata": {
        "colab": {
          "base_uri": "https://localhost:8080/"
        },
        "id": "lyabmMiRBBAg",
        "outputId": "2a2fba30-0da4-4470-a7cc-7814aa6b1620"
      },
      "source": [
        "sonuc = map(fonksiyon, iterable)\n",
        "print(* sonuc)"
      ],
      "execution_count": null,
      "outputs": [
        {
          "output_type": "stream",
          "name": "stdout",
          "text": [
            "1 4 9\n"
          ]
        }
      ]
    },
    {
      "cell_type": "code",
      "metadata": {
        "id": "vtR-rdNlFWKr"
      },
      "source": [
        "def kare(b):\n",
        "  return b ** 2"
      ],
      "execution_count": null,
      "outputs": []
    },
    {
      "cell_type": "code",
      "metadata": {
        "colab": {
          "base_uri": "https://localhost:8080/"
        },
        "id": "8-W9fT4uFd3y",
        "outputId": "dda6b164-5cd9-4b80-ccc1-80831cb5302d"
      },
      "source": [
        "sonuc2 = map(kare,iterable)\n",
        "print(* sonuc2)"
      ],
      "execution_count": null,
      "outputs": [
        {
          "output_type": "stream",
          "name": "stdout",
          "text": [
            "1 4 9\n"
          ]
        }
      ]
    },
    {
      "cell_type": "code",
      "metadata": {
        "colab": {
          "base_uri": "https://localhost:8080/"
        },
        "id": "gq4qFxFWLjeG",
        "outputId": "c429fd94-8406-4af4-bd15-ec145c17aa26"
      },
      "source": [
        "letter1 = [\"o\",\"s\",\"t\",\"t\"]\n",
        "letter2 = [\"n\",\"i\",\"e\",\"w\"]\n",
        "letter3 = [\"e\",\"x\",\"n\",\"o\"]\n",
        "numbers = map(lambda x,y,z: x+y+z, letter1,letter2,letter3)\n",
        "print(list(numbers))"
      ],
      "execution_count": null,
      "outputs": [
        {
          "output_type": "stream",
          "name": "stdout",
          "text": [
            "['one', 'six', 'ten', 'two']\n"
          ]
        }
      ]
    },
    {
      "cell_type": "code",
      "metadata": {
        "id": "NRaE3OTOHtYU"
      },
      "source": [
        "num1 = [9,6,7,4]\n",
        "num2 = [3,6,5,8]\n",
        "func = lambda x,y : (x + y) / 2"
      ],
      "execution_count": null,
      "outputs": []
    },
    {
      "cell_type": "code",
      "metadata": {
        "colab": {
          "base_uri": "https://localhost:8080/"
        },
        "id": "j5xmOiXmH6yo",
        "outputId": "3f0895bf-2d58-4243-dd2f-5c999d1fe995"
      },
      "source": [
        "numbers = map(func,num1,num2)\n",
        "print(list(numbers))"
      ],
      "execution_count": null,
      "outputs": [
        {
          "output_type": "stream",
          "name": "stdout",
          "text": [
            "[6.0, 6.0, 6.0, 6.0]\n"
          ]
        }
      ]
    },
    {
      "cell_type": "code",
      "metadata": {
        "colab": {
          "base_uri": "https://localhost:8080/"
        },
        "id": "nam8LoOtKZR3",
        "outputId": "7e8c1047-3fb2-4510-c47c-5ecb017db158"
      },
      "source": [
        "words1 = [\"you\",\"much\",\"hard\"]\n",
        "words2 = [\"i\",\"you\",\"he\"]\n",
        "words3 = [\"love\",\"ate\",\"works\"]\n",
        "sentences = map(lambda x,y,z : x + \" \"+ y +\" \"+ z,words2,words3,words1)\n",
        "for i in sentences:\n",
        "  print(i)\n"
      ],
      "execution_count": null,
      "outputs": [
        {
          "output_type": "stream",
          "name": "stdout",
          "text": [
            "i love you\n",
            "you ate much\n",
            "he works hard\n"
          ]
        }
      ]
    },
    {
      "cell_type": "code",
      "metadata": {
        "colab": {
          "base_uri": "https://localhost:8080/"
        },
        "id": "52j3zUD2OCvx",
        "outputId": "46c9901f-20ce-42d1-929b-aac8309b627e"
      },
      "source": [
        "words =[\"apple\",\"swim\",\"clock\",\"me\",\"kiwi\",\"banana\"]\n",
        "even= list(filter(lambda x : len(x) < 5,words)) \n",
        "print(even)"
      ],
      "execution_count": null,
      "outputs": [
        {
          "output_type": "stream",
          "name": "stdout",
          "text": [
            "['swim', 'me', 'kiwi']\n"
          ]
        }
      ]
    },
    {
      "cell_type": "code",
      "metadata": {
        "id": "BayzTeF3Txcm"
      },
      "source": [
        "first_ten = [\"a\",\"b\",\"c\",\"d\",\"e\",\"f\",\"g\",\"h\",\"i\",\"j\"]\n",
        "vowel_list = [\"a\",\"e\",\"i\",\"o\",\"u\"]"
      ],
      "execution_count": null,
      "outputs": []
    },
    {
      "cell_type": "code",
      "metadata": {
        "colab": {
          "base_uri": "https://localhost:8080/"
        },
        "id": "htf2XnU_Uaxd",
        "outputId": "730acdb8-2062-4782-bd9d-e60bd5ccf4c2"
      },
      "source": [
        "vowels = filter(lambda x : x in vowel_list,first_ten)\n",
        "print(list(vowels))"
      ],
      "execution_count": null,
      "outputs": [
        {
          "output_type": "stream",
          "name": "stdout",
          "text": [
            "['a', 'e', 'i']\n"
          ]
        }
      ]
    },
    {
      "cell_type": "code",
      "metadata": {
        "id": "dqJWPIXEWNeG"
      },
      "source": [
        "def modular_function(n):\n",
        "  return lambda x : x ** n\n",
        "  "
      ],
      "execution_count": null,
      "outputs": []
    },
    {
      "cell_type": "code",
      "metadata": {
        "colab": {
          "base_uri": "https://localhost:8080/"
        },
        "id": "eMHpf3eWWLIY",
        "outputId": "5586bf06-9b3b-4205-f47d-37673b6087c4"
      },
      "source": [
        "power_of_2 = modular_function(2)\n",
        "power_of_3 = modular_function(3)\n",
        "power_of_4 = modular_function(4)\n",
        "print(power_of_2(2))\n",
        "print(power_of_3(2))\n",
        "print(power_of_4(2))\n"
      ],
      "execution_count": null,
      "outputs": [
        {
          "output_type": "stream",
          "name": "stdout",
          "text": [
            "4\n",
            "8\n",
            "16\n"
          ]
        }
      ]
    },
    {
      "cell_type": "code",
      "metadata": {
        "colab": {
          "base_uri": "https://localhost:8080/"
        },
        "id": "HL3mYsPuWXkM",
        "outputId": "62ea07b1-d99e-46db-960d-cae594b3b497"
      },
      "source": [
        "karesinial = modular (2)\n",
        "karesinial(3)"
      ],
      "execution_count": null,
      "outputs": [
        {
          "output_type": "execute_result",
          "data": {
            "text/plain": [
              "9"
            ]
          },
          "metadata": {},
          "execution_count": 37
        }
      ]
    },
    {
      "cell_type": "code",
      "metadata": {
        "colab": {
          "base_uri": "https://localhost:8080/"
        },
        "id": "KIEDJ7stXA1O",
        "outputId": "99c27983-fea3-4b37-97f8-3d3247c5813b"
      },
      "source": [
        "kupunual = modular(3)\n",
        "kupunual(2)"
      ],
      "execution_count": null,
      "outputs": [
        {
          "output_type": "execute_result",
          "data": {
            "text/plain": [
              "8"
            ]
          },
          "metadata": {},
          "execution_count": 39
        }
      ]
    },
    {
      "cell_type": "code",
      "metadata": {
        "id": "5SdwUnbOZlnl"
      },
      "source": [
        "def functioner(emoji):\n",
        "  return lambda x : print(x,emoji)"
      ],
      "execution_count": null,
      "outputs": []
    },
    {
      "cell_type": "code",
      "metadata": {
        "id": "zyL1hNRmZ2Qf"
      },
      "source": [
        "myprint_smile = functioner(\":)\")\n",
        "myprint_sad = functioner(\":(\")\n",
        "myprint_neutral = functioner(\":|\")"
      ],
      "execution_count": null,
      "outputs": []
    },
    {
      "cell_type": "code",
      "metadata": {
        "colab": {
          "base_uri": "https://localhost:8080/"
        },
        "id": "cDe_CG9CaKl7",
        "outputId": "04651486-3da1-46bb-dd90-a030ea69f57c"
      },
      "source": [
        "myprint_sad(\"hello\")"
      ],
      "execution_count": null,
      "outputs": [
        {
          "output_type": "stream",
          "name": "stdout",
          "text": [
            "hello :(\n"
          ]
        }
      ]
    },
    {
      "cell_type": "code",
      "metadata": {
        "colab": {
          "base_uri": "https://localhost:8080/"
        },
        "id": "YFYNQWeZXH-x",
        "outputId": "0933d937-020f-4279-b9ba-89e5db68aebf"
      },
      "source": [
        "myprint_smile(\"hello\")"
      ],
      "execution_count": null,
      "outputs": [
        {
          "output_type": "stream",
          "name": "stdout",
          "text": [
            "hello :)\n"
          ]
        }
      ]
    },
    {
      "cell_type": "code",
      "metadata": {
        "colab": {
          "base_uri": "https://localhost:8080/"
        },
        "id": "ufNaFoFIaS_1",
        "outputId": "4ee63fde-650e-4201-fa6d-71d4658aa85c"
      },
      "source": [
        "myprint_neutral(\"hello\")"
      ],
      "execution_count": null,
      "outputs": [
        {
          "output_type": "stream",
          "name": "stdout",
          "text": [
            "hello :|\n"
          ]
        }
      ]
    },
    {
      "cell_type": "code",
      "metadata": {
        "id": "Pj0Q-vWIbVsK"
      },
      "source": [
        "def function_generator(function_name):\n",
        "  return lambda x : function_name(x)"
      ],
      "execution_count": null,
      "outputs": []
    },
    {
      "cell_type": "code",
      "metadata": {
        "id": "By1wpPXZcaV0"
      },
      "source": [
        "joseph_max = function_generator(max)\n",
        "joseph_sorted = function_generator(sorted)\n",
        "joseph_bool = function_generator(bool)\n",
        "joseph_print = function_generator(print)"
      ],
      "execution_count": null,
      "outputs": []
    },
    {
      "cell_type": "code",
      "metadata": {
        "colab": {
          "base_uri": "https://localhost:8080/"
        },
        "id": "Ql5d-hznc1wF",
        "outputId": "d2340786-7553-4346-e78d-5f4626cb35f4"
      },
      "source": [
        "joseph_max((3,55,6))"
      ],
      "execution_count": null,
      "outputs": [
        {
          "output_type": "execute_result",
          "data": {
            "text/plain": [
              "55"
            ]
          },
          "metadata": {},
          "execution_count": 51
        }
      ]
    },
    {
      "cell_type": "code",
      "metadata": {
        "colab": {
          "base_uri": "https://localhost:8080/"
        },
        "id": "1VKzObkFc7dZ",
        "outputId": "3645669e-6d45-4b28-dc19-4876750189e9"
      },
      "source": [
        "joseph_sorted((5,6,8,4))"
      ],
      "execution_count": null,
      "outputs": [
        {
          "output_type": "execute_result",
          "data": {
            "text/plain": [
              "[4, 5, 6, 8]"
            ]
          },
          "metadata": {},
          "execution_count": 52
        }
      ]
    },
    {
      "cell_type": "code",
      "metadata": {
        "colab": {
          "base_uri": "https://localhost:8080/"
        },
        "id": "xpO_7bA_cub4",
        "outputId": "1f08bca6-b053-4d2a-a927-9815d0697b2f"
      },
      "source": [
        "joseph_print('engin')"
      ],
      "execution_count": null,
      "outputs": [
        {
          "output_type": "stream",
          "name": "stdout",
          "text": [
            "engin\n"
          ]
        }
      ]
    },
    {
      "cell_type": "code",
      "metadata": {
        "colab": {
          "base_uri": "https://localhost:8080/"
        },
        "id": "M7TUaueBczCq",
        "outputId": "b810238e-25c2-48ae-996e-9b0c51331bed"
      },
      "source": [
        "joseph_bool('')"
      ],
      "execution_count": null,
      "outputs": [
        {
          "output_type": "execute_result",
          "data": {
            "text/plain": [
              "False"
            ]
          },
          "metadata": {},
          "execution_count": 18
        }
      ]
    },
    {
      "cell_type": "code",
      "metadata": {
        "id": "9DBTRvqHWkN-"
      },
      "source": [
        "def math(n):\n",
        "  return lambda a: a**n\n"
      ],
      "execution_count": null,
      "outputs": []
    },
    {
      "cell_type": "code",
      "metadata": {
        "id": "j59_bwWNWwGy"
      },
      "source": [
        "square = math(2)\n",
        "cube = math(3)\n"
      ],
      "execution_count": null,
      "outputs": []
    },
    {
      "cell_type": "code",
      "metadata": {
        "colab": {
          "base_uri": "https://localhost:8080/"
        },
        "id": "ZQej7b8HXD5B",
        "outputId": "cce25bfa-195a-4f1b-88fb-285db33e77b2"
      },
      "source": [
        "print(square(3))\n",
        "print(cube(3))\n"
      ],
      "execution_count": null,
      "outputs": [
        {
          "output_type": "stream",
          "name": "stdout",
          "text": [
            "9\n",
            "27\n"
          ]
        }
      ]
    },
    {
      "cell_type": "code",
      "metadata": {
        "id": "kVvINY-OZKyr"
      },
      "source": [
        "numbers = [1,3,5,9,10,4]\n",
        "\n",
        "def square(num): \n",
        "       return num ** 2\n",
        "\n",
        "result = list(map(square, numbers))"
      ],
      "execution_count": null,
      "outputs": []
    },
    {
      "cell_type": "code",
      "metadata": {
        "colab": {
          "base_uri": "https://localhost:8080/"
        },
        "id": "4M4sqVzqZWi9",
        "outputId": "e338a6eb-d84e-41a0-b7d3-ec20b0194485"
      },
      "source": [
        "print(result)"
      ],
      "execution_count": null,
      "outputs": [
        {
          "output_type": "stream",
          "name": "stdout",
          "text": [
            "[1, 9, 25, 81, 100, 16]\n"
          ]
        }
      ]
    },
    {
      "cell_type": "code",
      "metadata": {
        "id": "UftaYp8KZYf_"
      },
      "source": [
        ""
      ],
      "execution_count": null,
      "outputs": []
    }
  ]
}